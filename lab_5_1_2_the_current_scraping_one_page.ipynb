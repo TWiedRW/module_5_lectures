{
 "cells": [
  {
   "cell_type": "markdown",
   "metadata": {},
   "source": [
    "# Case Study - The Current - Part 2\n",
    "\n",
    "* The Current is an alternative radio station\n",
    "* We will pull information about the play list."
   ]
  },
  {
   "cell_type": "markdown",
   "metadata": {},
   "source": [
    "# Step 0 - Insert current progress\n",
    "\n",
    "Copy over all the relevant code from part 1 of the lab.\n",
    "\n",
    "http://www.thecurrent.org/playlist/2014-01-01/01"
   ]
  },
  {
   "cell_type": "code",
   "execution_count": 1,
   "metadata": {
    "scrolled": true
   },
   "outputs": [],
   "source": [
    "# Import modules here\n",
    "import requests\n",
    "import re\n",
    "from bs4 import BeautifulSoup\n",
    "from composablesoup import find, find_all, get_text, has_attr\n",
    "from composable.sequence import slice, head\n",
    "from composable.strict import map, filter\n",
    "from composable.string import replace, split\n",
    "from composable import from_toolz as tlz\n",
    "from composable import pipeable\n",
    "from composablesoup.soup import find_parent, parents, children, find_previous_sibling, find_previous_siblings, find_next_sibling, find_next_siblings, find_previous_sibling\n",
    "from composable.sequence import to_list\n",
    "from composable.string import strip\n"
   ]
  },
  {
   "cell_type": "code",
   "execution_count": 2,
   "metadata": {},
   "outputs": [],
   "source": [
    "# Functions from 5_1_1\n",
    "get_period = pipeable(lambda soup: soup\n",
    "                    >> find('span', attrs = {'class' : \"hour-header open\"})\n",
    "                    >> get_text\n",
    "                    >> strip\n",
    "                    >> replace('\\n', '')\n",
    "                    >> split(' ')\n",
    "                    >> tlz.get(1))\n",
    "\n",
    "get_dj = lambda soup: (soup\n",
    "    >> find('h5', attrs = {'class' : \"currentDj\"})\n",
    "    >> get_text\n",
    "    >> replace('DJ: ', ''))\n",
    "\n",
    "get_day = pipeable(lambda soup: (soup\n",
    "                >> find('a', attrs = {'class' : \"start-picker\"})\n",
    "                >> get_text\n",
    "                >> strip\n",
    "                >> split(',')\n",
    "                >> tlz.get(0)))\n",
    "\n",
    "get_title = pipeable(lambda soup: (soup\n",
    "                    >> find_all('h5', attrs={'class':'title'})\n",
    "                    >> map(get_text)\n",
    "                    ))\n",
    "                    \n",
    "get_artist = pipeable(lambda soup: (soup\n",
    "                    >> find_all('h5', attrs={'class':'artist'})\n",
    "                    >> map(get_text)\n",
    "                    ))\n"
   ]
  },
  {
   "cell_type": "code",
   "execution_count": 3,
   "metadata": {
    "scrolled": false
   },
   "outputs": [],
   "source": [
    "# Read in the page here\n",
    "s = requests.Session()\n",
    "r = s.get('http://www.thecurrent.org/playlist/2014-01-01/01')\n",
    "current = BeautifulSoup(r.content, \"html.parser\")"
   ]
  },
  {
   "cell_type": "markdown",
   "metadata": {},
   "source": [
    "# Pull off the song start time\n",
    "\n",
    "1. Inspect the element\n",
    "    1. This one is tricky\n",
    "    2. Time tag does not have a tag, but\n",
    "    3. The surrounding div does have a class\n",
    "2. Identify the html tag and class\n",
    "3. Use `find_all` to make a list of all relevant tags\n",
    "4. Pull off an example case\n",
    "5. Write a function that extracts the start time.\n",
    "6. Write a single pipe to extract the start time.\n",
    "7. Confirm you have the right number of times.\n",
    "8. Package your code in a function called `get_start_time`"
   ]
  },
  {
   "cell_type": "code",
   "execution_count": 4,
   "metadata": {
    "scrolled": false
   },
   "outputs": [
    {
     "output_type": "execute_result",
     "data": {
      "text/plain": [
       "['1:59',\n",
       " '1:54',\n",
       " '1:51',\n",
       " '1:46',\n",
       " '1:44',\n",
       " '1:38',\n",
       " '1:34',\n",
       " '1:31',\n",
       " '1:27',\n",
       " '1:23',\n",
       " '1:19',\n",
       " '1:13',\n",
       " '1:09',\n",
       " '1:05',\n",
       " '1:03',\n",
       " '1:01']"
      ]
     },
     "metadata": {},
     "execution_count": 4
    }
   ],
   "source": [
    "\n",
    "get_start_time = lambda soup:(soup\n",
    "                    >> find_all('div', attrs={'class':'two columns songTime'})\n",
    "                    >> map(find('time'))\n",
    "                    >> map(get_text)\n",
    "                    >> map(strip)\n",
    "                )\n",
    "\n",
    "(current\n",
    "    >> find_all('div', attrs={'class':'two columns songTime'})\n",
    "    >> map(find('time'))\n",
    "    >> map(get_text)\n",
    "    >> map(strip)\n",
    ")"
   ]
  },
  {
   "cell_type": "markdown",
   "metadata": {},
   "source": [
    "# Pull address of the album art image address\n",
    "\n",
    "Follow a similar process to pull off the web address of the album cover image. \n"
   ]
  },
  {
   "cell_type": "code",
   "execution_count": 5,
   "metadata": {
    "scrolled": false
   },
   "outputs": [
    {
     "output_type": "execute_result",
     "data": {
      "text/plain": [
       "['https://albumart.publicradio.org/mb/e2/e2749c25-c2b6-493e-a2bb-10898152bd2d_5158.jpg',\n",
       " 'https://albumart.publicradio.org/mb/5e/5e5c8b95-d04c-432f-8cd2-c1c8d99e6e5a_3556.jpg',\n",
       " 'https://albumart.publicradio.org/mb/48/48445b64-d965-369a-af3c-8193de389fd8_3ff4.jpg',\n",
       " 'https://albumart.publicradio.org/mb/e9/e999c049-c65b-4c5e-ad12-5596998679c7_92f9.jpg',\n",
       " 'https://albumart.publicradio.org/mb/d6/d62320e2-20c4-4589-aa76-2f8ac28447dd_e03b.jpg',\n",
       " 'https://albumart.publicradio.org/mb/02/028b8602-3bde-495a-a7da-15594fc4f786_351a.jpg',\n",
       " 'https://albumart.publicradio.org/mb/c9/c92f73ee-527f-42ed-a556-fd615941e214_78f0.jpg',\n",
       " 'https://albumart.publicradio.org/mb/24/24084807-5d23-423e-b1f3-5e9fd874e240_6ccd.jpg',\n",
       " 'https://albumart.publicradio.org/mb/c2/c20be759-d767-4a7c-96c5-7a870ebc3a30_7f7d.jpg',\n",
       " 'https://albumart.publicradio.org/mb/37/37f48931-e5e6-488f-a531-ad2db311158d_7446.jpg',\n",
       " 'https://albumart.publicradio.org/mb/1a/1aa41b19-5a72-341b-bd91-4cf61d1dab6b_8e05.jpg']"
      ]
     },
     "metadata": {},
     "execution_count": 5
    }
   ],
   "source": [
    "get_src_or_data_src = pipeable(lambda tag: tag[\"src\"] if tag[\"src\"] else tag[\"data-src\"])\n",
    "\n",
    "(current\n",
    "    >> find_all('img', attrs={'class':'album-art lazyload'})   \n",
    "    >> map(get_src_or_data_src)\n",
    ")"
   ]
  },
  {
   "cell_type": "code",
   "execution_count": 6,
   "metadata": {},
   "outputs": [],
   "source": [
    "get_album_art = lambda soup: (soup\n",
    "    >> find_all('img', attrs={'class':'album-art lazyload'})   \n",
    "    >> map(get_src_or_data_src))"
   ]
  },
  {
   "cell_type": "markdown",
   "metadata": {},
   "source": [
    "# Putting it all together\n",
    "\n",
    "* Make a function for each of the previous steps\n",
    "* Make an overall function\n",
    "    * input is a soup\n",
    "    * output is a list of lists\n",
    "\n",
    "**Hint:** You should use `zip` to put all the information together."
   ]
  },
  {
   "cell_type": "code",
   "execution_count": 7,
   "metadata": {},
   "outputs": [
    {
     "output_type": "execute_result",
     "data": {
      "text/plain": [
       "<zip at 0x7ffd655a3ac0>"
      ]
     },
     "metadata": {},
     "execution_count": 7
    }
   ],
   "source": [
    "def get_info(soup):\n",
    "    \"\"\"This function collects various information from the current\n",
    "    Args:\n",
    "        soup: A soup object created from BeautifulSoup\n",
    "    Returns:\n",
    "        Returns time, dj, day of week, song title, artist, and album art location\n",
    "    \"\"\"\n",
    "\n",
    "    \n",
    "    title = get_title(soup)\n",
    "    artist = get_artist(soup)\n",
    "    start_time = get_start_time(soup)\n",
    "    album_art = get_album_art(soup)\n",
    "\n",
    "    # These are single elements, so their lengths need to match \n",
    "    # the length of the above elements when put into the zip function\n",
    "    period = [get_period(soup)] * len(title)\n",
    "    dj = [get_dj(soup)] * len(title)\n",
    "    day = [get_day(soup)] * len(title)\n",
    "\n",
    "\n",
    "\n",
    "    output = zip(start_time, period, day, dj, title, artist, album_art)\n",
    "\n",
    "    return(output)\n",
    "\n",
    "\n",
    "\n",
    "get_info(current)\n"
   ]
  },
  {
   "cell_type": "code",
   "execution_count": 8,
   "metadata": {},
   "outputs": [
    {
     "output_type": "execute_result",
     "data": {
      "text/plain": [
       "[('1:59',\n",
       "  'am',\n",
       "  'Wednesday',\n",
       "  'Jade',\n",
       "  'Holy Roller',\n",
       "  'Thao and The Get Down Stay Down',\n",
       "  'https://albumart.publicradio.org/mb/e2/e2749c25-c2b6-493e-a2bb-10898152bd2d_5158.jpg'),\n",
       " ('1:54',\n",
       "  'am',\n",
       "  'Wednesday',\n",
       "  'Jade',\n",
       "  'Kingdom of Rust',\n",
       "  'Doves',\n",
       "  'https://albumart.publicradio.org/mb/5e/5e5c8b95-d04c-432f-8cd2-c1c8d99e6e5a_3556.jpg'),\n",
       " ('1:51',\n",
       "  'am',\n",
       "  'Wednesday',\n",
       "  'Jade',\n",
       "  'Black Dog',\n",
       "  'Frankie Lee',\n",
       "  'https://albumart.publicradio.org/mb/48/48445b64-d965-369a-af3c-8193de389fd8_3ff4.jpg'),\n",
       " ('1:46',\n",
       "  'am',\n",
       "  'Wednesday',\n",
       "  'Jade',\n",
       "  'Turn It Around',\n",
       "  'Lucius',\n",
       "  'https://albumart.publicradio.org/mb/e9/e999c049-c65b-4c5e-ad12-5596998679c7_92f9.jpg'),\n",
       " ('1:44',\n",
       "  'am',\n",
       "  'Wednesday',\n",
       "  'Jade',\n",
       "  'Flavor of the Month',\n",
       "  'The Posies',\n",
       "  'https://albumart.publicradio.org/mb/d6/d62320e2-20c4-4589-aa76-2f8ac28447dd_e03b.jpg'),\n",
       " ('1:38',\n",
       "  'am',\n",
       "  'Wednesday',\n",
       "  'Jade',\n",
       "  'Potential Wife',\n",
       "  'Strange Names',\n",
       "  'https://albumart.publicradio.org/mb/02/028b8602-3bde-495a-a7da-15594fc4f786_351a.jpg'),\n",
       " ('1:34',\n",
       "  'am',\n",
       "  'Wednesday',\n",
       "  'Jade',\n",
       "  '24 Hours',\n",
       "  'Sky Ferreira',\n",
       "  'https://albumart.publicradio.org/mb/c9/c92f73ee-527f-42ed-a556-fd615941e214_78f0.jpg'),\n",
       " ('1:31',\n",
       "  'am',\n",
       "  'Wednesday',\n",
       "  'Jade',\n",
       "  \"Who's Gonna Shoe Your Pretty Little Feet?\",\n",
       "  'Billie Joe and Norah',\n",
       "  'https://albumart.publicradio.org/mb/24/24084807-5d23-423e-b1f3-5e9fd874e240_6ccd.jpg'),\n",
       " ('1:27',\n",
       "  'am',\n",
       "  'Wednesday',\n",
       "  'Jade',\n",
       "  'Marigold',\n",
       "  'J. Roddy Walston and The Business',\n",
       "  'https://albumart.publicradio.org/mb/c2/c20be759-d767-4a7c-96c5-7a870ebc3a30_7f7d.jpg'),\n",
       " ('1:23',\n",
       "  'am',\n",
       "  'Wednesday',\n",
       "  'Jade',\n",
       "  'High Road',\n",
       "  'Cults',\n",
       "  'https://albumart.publicradio.org/mb/37/37f48931-e5e6-488f-a531-ad2db311158d_7446.jpg'),\n",
       " ('1:19',\n",
       "  'am',\n",
       "  'Wednesday',\n",
       "  'Jade',\n",
       "  'The Vampyre Of Time and Memory',\n",
       "  'Queens of the Stone Age',\n",
       "  'https://albumart.publicradio.org/mb/1a/1aa41b19-5a72-341b-bd91-4cf61d1dab6b_8e05.jpg')]"
      ]
     },
     "metadata": {},
     "execution_count": 8
    }
   ],
   "source": [
    "# Printing out the information\n",
    "list(get_info(current))"
   ]
  },
  {
   "cell_type": "code",
   "execution_count": null,
   "metadata": {},
   "outputs": [],
   "source": []
  }
 ],
 "metadata": {
  "anaconda-cloud": {},
  "kernelspec": {
   "display_name": "Python 3",
   "language": "python",
   "name": "python3"
  },
  "language_info": {
   "codemirror_mode": {
    "name": "ipython",
    "version": 3
   },
   "file_extension": ".py",
   "mimetype": "text/x-python",
   "name": "python",
   "nbconvert_exporter": "python",
   "pygments_lexer": "ipython3",
   "version": "3.8.3-final"
  }
 },
 "nbformat": 4,
 "nbformat_minor": 1
}