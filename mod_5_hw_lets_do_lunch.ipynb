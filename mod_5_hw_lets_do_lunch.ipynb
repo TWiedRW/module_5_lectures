{
 "cells": [
  {
   "cell_type": "markdown",
   "metadata": {},
   "source": [
    "# Module 5 Homework - Let's Get Lunch\n",
    "\n",
    "Suppose we are looking for a good place for lunch on our next trip to La Crosse. Let's collect some data on nearby restaurants."
   ]
  },
  {
   "cell_type": "markdown",
   "metadata": {},
   "source": [
    "## <font color=\"red\"> Problem 1 </font>\n",
    "\n",
    "Goto yelp.com and perform a search with the following parameters\n",
    "\n",
    "* **Find** Restaurants\n",
    "* **Near** La Crosse, WI\n",
    "\n",
    "**Tasks**\n",
    "1. Copy the resulting web address below and determine the how the     specified search terms related to the resulting address\n",
    "2. Use requests and Beautiful Soap to download the content of the front page."
   ]
  },
  {
   "cell_type": "code",
   "execution_count": null,
   "metadata": {},
   "outputs": [],
   "source": [
    "# Import modules here\n",
    "import requests\n",
    "from bs4 import BeautifulSoup\n",
    "from composablesoup import find, find_all, get_text, has_attr\n",
    "from composable.sequence import slice, head\n",
    "from composable.strict import map, filter\n",
    "from composable.string import replace, split\n",
    "from composable import from_toolz as tlz\n",
    "from composable import pipeable\n",
    "from composable import pipeable\n",
    "from composable.strict import map, filter\n",
    "from composablesoup import find, find_all, get_text, has_attr\n",
    "from composablesoup.soup import find_parent, parents, children, find_previous_sibling, find_previous_siblings, find_next_sibling, find_next_siblings, find_previous_sibling\n",
    "from composable.sequence import to_list, head\n",
    "from composable.string import strip\n",
    "from composable import from_toolz as tlz"
   ]
  },
  {
   "cell_type": "code",
   "execution_count": null,
   "metadata": {},
   "outputs": [],
   "source": [
    "# Get and process the Yelp search\n",
    "s = requests.Session()\n",
    "r = s.get('https://www.yelp.com/search?find_desc=&find_loc=La%20Crosse%2C%20WI')\n",
    "yelp = BeautifulSoup(r.content, \"html.parser\")"
   ]
  },
  {
   "cell_type": "markdown",
   "metadata": {
    "collapsed": true
   },
   "source": [
    "## <font color=\"red\"> Problem 2 </font>\n",
    "\n",
    "We want to grab the restaurant's name.\n",
    "\n",
    "1. Use Inspect Element to determine the tags/classes for each of the elements listed above.  \n",
    "2. Note that all the business information is contained in a`div` that contains a class similar to  `<div class=\" ... businessName__09f24__3Wql2 ...\">`.  You will need to use a regular expression to match the `businessName` in the class (see lecture 5.3).\n",
    "3. Write expressions/functions to pull out the name of each restaurant.  \n",
    "    * Note: The business name is in an unnamed tag, you will need to navigate to the using searches and/or relationship\n",
    " \n",
    "**Confirm that there is an extra restaurant in the list (e.g. 11-12 instead of 10). This is due to an advertisement/sponsered links, which we want to ignore.**"
   ]
  },
  {
   "cell_type": "code",
   "execution_count": null,
   "metadata": {},
   "outputs": [],
   "source": [
    "import re\n",
    "\n",
    "(yelp\n",
    "    >> find_all('a', attrs={'class':\"link__09f24__1kwXV link-color--inherit__09f24__3PYlA link-size--inherit__09f24__2Uj95\"})\n",
    "    >> map(get_text)\n",
    ")\n",
    "\n"
   ]
  },
  {
   "cell_type": "code",
   "execution_count": null,
   "metadata": {},
   "outputs": [],
   "source": [
    "get_all_business = lambda soup: (soup    \n",
    "                    >> find_all('a', attrs={'class':\"link__09f24__1kwXV link-color--inherit__09f24__3PYlA link-size--inherit__09f24__2Uj95\", \n",
    "    'href':not_ad})\n",
    "                    >> map(get_text))\n",
    "get_all_business(yelp)"
   ]
  },
  {
   "cell_type": "code",
   "execution_count": null,
   "metadata": {},
   "outputs": [],
   "source": []
  },
  {
   "cell_type": "markdown",
   "metadata": {},
   "source": [
    "## <font color=\"red\"> Problem 3 </font>\n",
    "\n",
    "Since we picked up extra information, we will need to be clever about identifying the information block for each restaurant.  Note that all of the actual search results (but not sponsered links) start with the ranking (e.g. `11.`).  Use the following steps to get a list that contains the information for each restaurant other than the adds.\n",
    "\n",
    "1. Start by finding the ranking of the restaurant (1., 2., etc.). **Hint:** You will need to use regular expression to match the text of the tag (see lecture 5.3).\n",
    "2. Now search for a parent of the above tags that surrounds all of the restaurant information.  You will want to use the `find_parent` method on each of the tags from **1.**.  **Hint:** Look through each of the `div` tags that contain the ranking, looking for a meaningful tag name to match with a regular expression.\n",
    "\n",
    "The resulting list will be the starting point for gathering all of the information."
   ]
  },
  {
   "cell_type": "code",
   "execution_count": null,
   "metadata": {},
   "outputs": [],
   "source": [
    "import re\n",
    "\n",
    "not_ad = re.compile('/biz/')\n",
    "\n",
    "(yelp\n",
    "    >> find_all('a', attrs={'class':\"link__09f24__1kwXV link-color--inherit__09f24__3PYlA link-size--inherit__09f24__2Uj95\", \n",
    "    'href':not_ad})\n",
    "    >> map(get_text)\n",
    ")"
   ]
  },
  {
   "cell_type": "code",
   "execution_count": null,
   "metadata": {},
   "outputs": [],
   "source": [
    "get_only_business = lambda soup: (soup     \n",
    "                        >> find_all('a', attrs={'class':\"link__09f24__1kwXV link-color--inherit__09f24__3PYlA link-size--inherit__09f24__2Uj95\", \n",
    "    'href':not_ad})\n",
    "                        >> map(get_text)\n",
    ")\n",
    "get_only_business(yelp)"
   ]
  },
  {
   "cell_type": "code",
   "execution_count": null,
   "metadata": {},
   "outputs": [],
   "source": []
  },
  {
   "cell_type": "markdown",
   "metadata": {},
   "source": [
    "## <font color=\"red\"> Problem 4 </font>\n",
    "\n",
    "Write expressions/functions to gather each of the following pieces of information for each of the restaurants."
   ]
  },
  {
   "cell_type": "markdown",
   "metadata": {},
   "source": [
    "#### Restaurant Name"
   ]
  },
  {
   "cell_type": "code",
   "execution_count": null,
   "metadata": {},
   "outputs": [],
   "source": [
    "get_only_business = lambda soup: (soup     \n",
    "                        >> find_all('a', attrs={'class':\"link__09f24__1kwXV link-color--inherit__09f24__3PYlA link-size--inherit__09f24__2Uj95\", \n",
    "    'href':not_ad})\n",
    "                        >> map(get_text)\n",
    ")\n",
    "get_only_business(yelp)"
   ]
  },
  {
   "cell_type": "markdown",
   "metadata": {},
   "source": [
    "#### Rating"
   ]
  },
  {
   "cell_type": "code",
   "execution_count": null,
   "metadata": {},
   "outputs": [],
   "source": [
    "rating = re.compile('\\d[\\.\\d]? star rating')\n",
    "name = re.compile('.+')\n",
    "\n",
    "\n",
    "(yelp \n",
    "    >> find_all('a', attrs={'href':not_ad, 'name':name})\n",
    "    >> map(find_parent)\n",
    "    >> map(find_parent)\n",
    "    >> map(find_parent)\n",
    "    >> map(find_parent)\n",
    "    >> map(find_parent)\n",
    "    >> map(find_next_sibling)\n",
    "    >> map(find('div', attrs={'aria-label':rating, 'role':'img'}))\n",
    "    >> map(tlz.get('aria-label'))\n",
    ")"
   ]
  },
  {
   "cell_type": "code",
   "execution_count": null,
   "metadata": {},
   "outputs": [],
   "source": [
    "get_rating = lambda soup: (soup     \n",
    "    >> find_all('a', attrs={'href':not_ad, 'name':name})\n",
    "    >> map(find_parent)\n",
    "    >> map(find_parent)\n",
    "    >> map(find_parent)\n",
    "    >> map(find_parent)\n",
    "    >> map(find_parent)\n",
    "    >> map(find_next_sibling)\n",
    "    >> map(find('div', attrs={'aria-label':rating, 'role':'img'}))\n",
    "    >> map(tlz.get('aria-label'))\n",
    ")\n",
    "get_rating(yelp)"
   ]
  },
  {
   "cell_type": "markdown",
   "metadata": {},
   "source": [
    "#### Address"
   ]
  },
  {
   "cell_type": "code",
   "execution_count": null,
   "metadata": {},
   "outputs": [],
   "source": []
  },
  {
   "cell_type": "code",
   "execution_count": null,
   "metadata": {},
   "outputs": [],
   "source": [
    "(yelp\n",
    "    >> find_all('a', attrs={'href':not_ad, 'name':name})\n",
    "    >> map(find_parent)\n",
    "    >> map(find_parent)\n",
    "    >> map(find_parent)\n",
    "    >> map(find_parent)\n",
    "    >> map(find_parent)\n",
    "    >> map(find_parent)\n",
    "    >> map(find_parent)\n",
    "    >> map(find_next_sibling)\n",
    "    >> map(find('span'))\n",
    "    >> map(get_text)\n",
    ")"
   ]
  },
  {
   "cell_type": "code",
   "execution_count": null,
   "metadata": {},
   "outputs": [],
   "source": [
    "get_address = lambda soup: (soup\n",
    "    >> find_all('a', attrs={'href':not_ad, 'name':name})\n",
    "    >> map(find_parent)\n",
    "    >> map(find_parent)\n",
    "    >> map(find_parent)\n",
    "    >> map(find_parent)\n",
    "    >> map(find_parent)\n",
    "    >> map(find_parent)\n",
    "    >> map(find_parent)\n",
    "    >> map(find_next_sibling)\n",
    "    >> map(find('span'))\n",
    "    >> map(get_text)\n",
    ")\n",
    "get_address(yelp)"
   ]
  },
  {
   "cell_type": "markdown",
   "metadata": {},
   "source": [
    "#### Review Count"
   ]
  },
  {
   "cell_type": "code",
   "execution_count": null,
   "metadata": {},
   "outputs": [],
   "source": [
    "flatten_pipe = pipeable(lambda s: [item for sublist in s for item in sublist])\n",
    "\n",
    "(yelp\n",
    "    >> find_all('a', attrs={'href':not_ad, 'name':name})\n",
    "    >> map(find_parent)\n",
    "    >> map(find_parent)\n",
    "    >> map(find_parent)\n",
    "    >> map(find_parent)\n",
    "    >> map(find_parent)\n",
    "    >> map(find_next_sibling)\n",
    "    >> map(map(get_text))\n",
    "    >> flatten_pipe\n",
    ")"
   ]
  },
  {
   "cell_type": "code",
   "execution_count": null,
   "metadata": {},
   "outputs": [],
   "source": [
    "flatten_pipe = pipeable(lambda s: [item for sublist in s for item in sublist])\n",
    "get_review_count = lambda soup: (soup\n",
    "    >> find_all('a', attrs={'href':not_ad, 'name':name})\n",
    "    >> map(find_parent)\n",
    "    >> map(find_parent)\n",
    "    >> map(find_parent)\n",
    "    >> map(find_parent)\n",
    "    >> map(find_parent)\n",
    "    >> map(find_next_sibling)\n",
    "    >> map(map(get_text))\n",
    "    >> flatten_pipe\n",
    ")\n",
    "\n",
    "get_review_count(yelp)"
   ]
  },
  {
   "cell_type": "markdown",
   "metadata": {},
   "source": [
    "#### Category\n",
    "\n",
    "**Examples:** `['American (New)', 'Seafood', 'Steakhouses']` becomes `'American (New);Seafood;Steakhouses'`"
   ]
  },
  {
   "cell_type": "code",
   "execution_count": null,
   "metadata": {
    "scrolled": true
   },
   "outputs": [],
   "source": [
    "(yelp\n",
    "    >> find_all('a', attrs={'href':not_ad, 'name':name})\n",
    "    >> map(find_parent)\n",
    "    >> map(find_parent)\n",
    "    >> map(find_parent)\n",
    "    >> map(find_parent)\n",
    "    >> map(find_parent)\n",
    "    >> map(find_next_sibling)\n",
    "    >> map(find_next_sibling)\n",
    "    >> map(map(get_text))\n",
    "    >> map(map(replace('$', '')))\n",
    "    >> map(map(replace(', ', ';')))\n",
    "    >> flatten_pipe\n",
    ")"
   ]
  },
  {
   "cell_type": "code",
   "execution_count": null,
   "metadata": {},
   "outputs": [],
   "source": [
    "get_category = lambda soup: (soup\n",
    "    >> find_all('a', attrs={'href':not_ad, 'name':name})\n",
    "    >> map(find_parent)\n",
    "    >> map(find_parent)\n",
    "    >> map(find_parent)\n",
    "    >> map(find_parent)\n",
    "    >> map(find_parent)\n",
    "    >> map(find_next_sibling)\n",
    "    >> map(find_next_sibling)\n",
    "    >> map(map(get_text))\n",
    "    >> map(map(replace('$', '')))\n",
    "    >> map(map(replace(', ', ';')))\n",
    "    >> flatten_pipe\n",
    ")"
   ]
  },
  {
   "cell_type": "markdown",
   "metadata": {},
   "source": [
    "## <font color=\"red\">  Problem 4 </font>\n",
    "\n",
    "Package all of the expressions in a function that takes a url as input and returns the table of information.  Use a `def` statement and put the above helper functions in the body of the main function.  Test this function on the front page of the search."
   ]
  },
  {
   "cell_type": "code",
   "execution_count": null,
   "metadata": {},
   "outputs": [],
   "source": [
    "def get_yelp_information(url):\n",
    "    \"\"\"This function returns various components from Yelp for La Crosse restaurants\n",
    "    Args:\n",
    "        soup: Takes a Yelp page\n",
    "    Returns:\n",
    "        Returns a table with name, address, rating, count of ratings, and category\n",
    "    \"\"\"\n",
    "\n",
    "    s = requests.Session()\n",
    "    r = s.get('https://www.yelp.com/search?find_desc=&find_loc=La%20Crosse%2C%20WI')\n",
    "    soup = BeautifulSoup(r.content, \"html.parser\")\n",
    "\n",
    "    get_only_business = lambda soup: (soup     \n",
    "        >> find_all('a', attrs={'class':\"link__09f24__1kwXV link-color--inherit__09f24__3PYlA link-size--inherit__09f24__2Uj95\", \n",
    "'href':not_ad})\n",
    "        >> map(get_text)\n",
    "    )\n",
    "\n",
    "    get_rating = lambda soup: (soup     \n",
    "        >> find_all('a', attrs={'href':not_ad, 'name':name})\n",
    "        >> map(find_parent)\n",
    "        >> map(find_parent)\n",
    "        >> map(find_parent)\n",
    "        >> map(find_parent)\n",
    "        >> map(find_parent)\n",
    "        >> map(find_next_sibling)\n",
    "        >> map(find('div', attrs={'aria-label':rating, 'role':'img'}))\n",
    "        >> map(tlz.get('aria-label')))\n",
    "\n",
    "    get_address = lambda soup: (soup\n",
    "        >> find_all('a', attrs={'href':not_ad, 'name':name})\n",
    "        >> map(find_parent)\n",
    "        >> map(find_parent)\n",
    "        >> map(find_parent)\n",
    "        >> map(find_parent)\n",
    "        >> map(find_parent)\n",
    "        >> map(find_parent)\n",
    "        >> map(find_parent)\n",
    "        >> map(find_next_sibling)\n",
    "        >> map(find('span'))\n",
    "        >> map(get_text))\n",
    "\n",
    "    flatten_pipe = pipeable(lambda s: [item for sublist in s for item in sublist])\n",
    "    get_review_count = lambda soup: (soup\n",
    "        >> find_all('a', attrs={'href':not_ad, 'name':name})\n",
    "        >> map(find_parent)\n",
    "        >> map(find_parent)\n",
    "        >> map(find_parent)\n",
    "        >> map(find_parent)\n",
    "        >> map(find_parent)\n",
    "        >> map(find_next_sibling)\n",
    "        >> map(map(get_text))\n",
    "        >> flatten_pipe)\n",
    "\n",
    "    get_category = lambda soup: (soup\n",
    "        >> find_all('a', attrs={'href':not_ad, 'name':name})\n",
    "        >> map(find_parent)\n",
    "        >> map(find_parent)\n",
    "        >> map(find_parent)\n",
    "        >> map(find_parent)\n",
    "        >> map(find_parent)\n",
    "        >> map(find_next_sibling)\n",
    "        >> map(find_next_sibling)\n",
    "        >> map(map(get_text))\n",
    "        >> map(map(replace('$', '')))\n",
    "        >> map(map(replace(', ', ';')))\n",
    "        >> flatten_pipe)  \n",
    "\n",
    "    name = get_only_business(soup)\n",
    "    address = get_address(soup)\n",
    "    ratings = get_rating(soup)\n",
    "    rating_count = get_review_count(soup)\n",
    "    category = get_category(soup)\n",
    "\n",
    "    list_of_tuples = zip(name, address, ratings, rating_count, category)\n",
    "\n",
    "    output = [', '.join(x) for x in list_of_tuples]\n",
    "\n",
    "    return(output)\n",
    "\n",
    "get_yelp_information(yelp)"
   ]
  },
  {
   "cell_type": "markdown",
   "metadata": {},
   "source": [
    "## <font color=\"red\">  Problem 5 </font>\n",
    "\n",
    "Now perform a linear search to grab all of the information on restaurants in La Crosse.  You will need to\n",
    "\n",
    "1. Inspect the url for the first, second, etc. pages to determine the pattern.\n",
    "2. Create a list of urls for all search results.\n",
    "3. Get the info from all pages and use your function from the last problem to parse the data into a list.\n",
    "4. Write the results to a csv file. **Hint:** Use `'a'` (append) instead of `'w'` write on all after the first/"
   ]
  },
  {
   "cell_type": "code",
   "execution_count": 207,
   "metadata": {},
   "outputs": [
    {
     "output_type": "execute_result",
     "data": {
      "text/plain": [
       "(24,\n",
       " ['https://www.yelp.com/search?find_desc=&find_loc=La%20Crosse%2C%20WI&start=0',\n",
       "  'https://www.yelp.com/search?find_desc=&find_loc=La%20Crosse%2C%20WI&start=10',\n",
       "  'https://www.yelp.com/search?find_desc=&find_loc=La%20Crosse%2C%20WI&start=20',\n",
       "  'https://www.yelp.com/search?find_desc=&find_loc=La%20Crosse%2C%20WI&start=30',\n",
       "  'https://www.yelp.com/search?find_desc=&find_loc=La%20Crosse%2C%20WI&start=40',\n",
       "  'https://www.yelp.com/search?find_desc=&find_loc=La%20Crosse%2C%20WI&start=50',\n",
       "  'https://www.yelp.com/search?find_desc=&find_loc=La%20Crosse%2C%20WI&start=60',\n",
       "  'https://www.yelp.com/search?find_desc=&find_loc=La%20Crosse%2C%20WI&start=70',\n",
       "  'https://www.yelp.com/search?find_desc=&find_loc=La%20Crosse%2C%20WI&start=80',\n",
       "  'https://www.yelp.com/search?find_desc=&find_loc=La%20Crosse%2C%20WI&start=90',\n",
       "  'https://www.yelp.com/search?find_desc=&find_loc=La%20Crosse%2C%20WI&start=100',\n",
       "  'https://www.yelp.com/search?find_desc=&find_loc=La%20Crosse%2C%20WI&start=110',\n",
       "  'https://www.yelp.com/search?find_desc=&find_loc=La%20Crosse%2C%20WI&start=120',\n",
       "  'https://www.yelp.com/search?find_desc=&find_loc=La%20Crosse%2C%20WI&start=130',\n",
       "  'https://www.yelp.com/search?find_desc=&find_loc=La%20Crosse%2C%20WI&start=140',\n",
       "  'https://www.yelp.com/search?find_desc=&find_loc=La%20Crosse%2C%20WI&start=150',\n",
       "  'https://www.yelp.com/search?find_desc=&find_loc=La%20Crosse%2C%20WI&start=160',\n",
       "  'https://www.yelp.com/search?find_desc=&find_loc=La%20Crosse%2C%20WI&start=170',\n",
       "  'https://www.yelp.com/search?find_desc=&find_loc=La%20Crosse%2C%20WI&start=180',\n",
       "  'https://www.yelp.com/search?find_desc=&find_loc=La%20Crosse%2C%20WI&start=190',\n",
       "  'https://www.yelp.com/search?find_desc=&find_loc=La%20Crosse%2C%20WI&start=200',\n",
       "  'https://www.yelp.com/search?find_desc=&find_loc=La%20Crosse%2C%20WI&start=210',\n",
       "  'https://www.yelp.com/search?find_desc=&find_loc=La%20Crosse%2C%20WI&start=220',\n",
       "  'https://www.yelp.com/search?find_desc=&find_loc=La%20Crosse%2C%20WI&start=230'])"
      ]
     },
     "metadata": {},
     "execution_count": 207
    }
   ],
   "source": [
    "base_url = 'https://www.yelp.com/search?find_desc=&find_loc=La%20Crosse%2C%20WI&start='\n",
    "\n",
    "#Last page = https://www.yelp.com/search?find_desc=&find_loc=La%20Crosse%2C%20WI&start=230\n",
    "\n",
    "pages = [base_url + str(x) for x in range(240) if x % 10 == 0]\n",
    "len(pages), pages\n",
    "\n",
    "\n"
   ]
  },
  {
   "cell_type": "code",
   "execution_count": null,
   "metadata": {
    "tags": [
     "outputPrepend"
    ]
   },
   "outputs": [],
   "source": [
    "for pages in pages:\n",
    "    info = get_yelp_information(pages)\n",
    "    "
   ]
  },
  {
   "cell_type": "code",
   "execution_count": 228,
   "metadata": {},
   "outputs": [
    {
     "output_type": "stream",
     "name": "stdout",
     "text": [
      "Completed the first url\n",
      "Starting for url: https://www.yelp.com/search?find_desc=&find_loc=La%20Crosse%2C%20WI&start=10\n",
      "Starting for url: https://www.yelp.com/search?find_desc=&find_loc=La%20Crosse%2C%20WI&start=20\n",
      "Starting for url: https://www.yelp.com/search?find_desc=&find_loc=La%20Crosse%2C%20WI&start=30\n",
      "Starting for url: https://www.yelp.com/search?find_desc=&find_loc=La%20Crosse%2C%20WI&start=40\n",
      "Starting for url: https://www.yelp.com/search?find_desc=&find_loc=La%20Crosse%2C%20WI&start=50\n",
      "Starting for url: https://www.yelp.com/search?find_desc=&find_loc=La%20Crosse%2C%20WI&start=60\n",
      "Starting for url: https://www.yelp.com/search?find_desc=&find_loc=La%20Crosse%2C%20WI&start=70\n",
      "Starting for url: https://www.yelp.com/search?find_desc=&find_loc=La%20Crosse%2C%20WI&start=80\n",
      "Starting for url: https://www.yelp.com/search?find_desc=&find_loc=La%20Crosse%2C%20WI&start=90\n",
      "Starting for url: https://www.yelp.com/search?find_desc=&find_loc=La%20Crosse%2C%20WI&start=100\n",
      "Starting for url: https://www.yelp.com/search?find_desc=&find_loc=La%20Crosse%2C%20WI&start=110\n",
      "Starting for url: https://www.yelp.com/search?find_desc=&find_loc=La%20Crosse%2C%20WI&start=120\n",
      "Starting for url: https://www.yelp.com/search?find_desc=&find_loc=La%20Crosse%2C%20WI&start=130\n",
      "Starting for url: https://www.yelp.com/search?find_desc=&find_loc=La%20Crosse%2C%20WI&start=140\n",
      "Starting for url: https://www.yelp.com/search?find_desc=&find_loc=La%20Crosse%2C%20WI&start=150\n",
      "Starting for url: https://www.yelp.com/search?find_desc=&find_loc=La%20Crosse%2C%20WI&start=160\n",
      "Starting for url: https://www.yelp.com/search?find_desc=&find_loc=La%20Crosse%2C%20WI&start=170\n",
      "Starting for url: https://www.yelp.com/search?find_desc=&find_loc=La%20Crosse%2C%20WI&start=180\n",
      "Starting for url: https://www.yelp.com/search?find_desc=&find_loc=La%20Crosse%2C%20WI&start=190\n",
      "Starting for url: https://www.yelp.com/search?find_desc=&find_loc=La%20Crosse%2C%20WI&start=200\n",
      "Starting for url: https://www.yelp.com/search?find_desc=&find_loc=La%20Crosse%2C%20WI&start=210\n",
      "Starting for url: https://www.yelp.com/search?find_desc=&find_loc=La%20Crosse%2C%20WI&start=220\n",
      "Starting for url: https://www.yelp.com/search?find_desc=&find_loc=La%20Crosse%2C%20WI&start=230\n",
      "The script is complete\n"
     ]
    }
   ],
   "source": [
    "remaining_pages = pages[1:]\n",
    "\n",
    "with open('la_crosse_yelp.csv', 'w') as file:\n",
    "    page_info = get_yelp_information(pages[0])\n",
    "    rows = '\\n'.join(page_info) + '\\n'\n",
    "    file.write(rows)\n",
    "\n",
    "    print('Completed the first url')\n",
    "\n",
    "for remaining_pages in remaining_pages:\n",
    "    print('Starting for url: ' + remaining_pages)\n",
    "    with open('la_crosse_yelp.csv', 'a') as file:\n",
    "        page_info = get_yelp_information(remaining_pages)\n",
    "        rows = '\\n'.join(page_info) + '\\n'\n",
    "        file.writelines(rows)\n",
    "print('The script is complete')"
   ]
  },
  {
   "cell_type": "markdown",
   "metadata": {},
   "source": [
    "## <font color=\"red\">  Bonus Problem </font>\n",
    "\n",
    "See if you can also grab the latitude and longitude of each result."
   ]
  },
  {
   "cell_type": "code",
   "execution_count": null,
   "metadata": {},
   "outputs": [],
   "source": []
  }
 ],
 "metadata": {
  "anaconda-cloud": {},
  "kernelspec": {
   "display_name": "Python 3",
   "language": "python",
   "name": "python3"
  },
  "language_info": {
   "codemirror_mode": {
    "name": "ipython",
    "version": 3
   },
   "file_extension": ".py",
   "mimetype": "text/x-python",
   "name": "python",
   "nbconvert_exporter": "python",
   "pygments_lexer": "ipython3",
   "version": "3.8.3-final"
  }
 },
 "nbformat": 4,
 "nbformat_minor": 1
}