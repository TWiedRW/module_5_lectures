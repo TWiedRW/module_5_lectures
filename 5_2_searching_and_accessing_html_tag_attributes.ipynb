{
 "cells": [
  {
   "cell_type": "markdown",
   "metadata": {},
   "source": [
    "## Attribution\n",
    "\n",
    "These slides were adapted from [the companion notebooks](https://github.com/REMitchell/python-scraping) for [Web Scraping in Python](http://shop.oreilly.com/product/0636920034391.do), which are open sourced and provided for free.  If you are interested in a more detailed presentation of web scraping in Python, this book is a great source."
   ]
  },
  {
   "cell_type": "code",
   "execution_count": null,
   "metadata": {},
   "outputs": [],
   "source": [
    "!pip install composable\n",
    "!pip install composablesoup"
   ]
  },
  {
   "cell_type": "code",
   "execution_count": null,
   "metadata": {},
   "outputs": [],
   "source": [
    "!pip install composable --upgrade\n",
    "!pip install composablesoup --upgrade"
   ]
  },
  {
   "cell_type": "code",
   "execution_count": 4,
   "metadata": {},
   "outputs": [],
   "source": [
    "from composablesoup import find, find_all, get_text, has_attr\n",
    "from composable.sequence import slice, head\n",
    "from composable.strict import map, filter\n",
    "from composable.string import replace\n",
    "from composable import from_toolz as tlz"
   ]
  },
  {
   "cell_type": "code",
   "execution_count": 5,
   "metadata": {},
   "outputs": [],
   "source": [
    "import requests\n",
    "from bs4 import BeautifulSoup\n",
    "s = requests.Session()\n",
    "r = s.get('http://www.pythonscraping.com/pages/page3.html')\n",
    "items_for_sale = BeautifulSoup(r.content, 'html.parser')"
   ]
  },
  {
   "cell_type": "markdown",
   "metadata": {},
   "source": [
    "## CSS and Styling HTML Pages\n",
    "\n",
    "In this section, we will introduce styling web pages using **Cascading Style Sheets (CSS)**, which is common practice in modern web design.  The consequence of this practice is most, if not all, html tags have attributes that classify and group the tags; often in a meaningful/contextual way.  This attributes are useful when web scraping, as we will see in the following sections"
   ]
  },
  {
   "cell_type": "markdown",
   "metadata": {},
   "source": [
    "### Exploration\n",
    "\n",
    "1. Go to [this page](http://www.pythonscraping.com/pages/warandpeace.html)\n",
    "2. Notice that\n",
    "    1. All of the quotes are colored <font color=\"#ff5555\">red</font>\n",
    "    2. All of the character names are colored <font color=\"#55ff55\">green</font>\n",
    "3. Now right click and view the page source.  Look at the `<style>` tag at the top of the page.  *These entries are CSS selectors, which apply style to all matching tags*.\n",
    "4. Finally, note that\n",
    "    1. Each quotation is surrounded by `<span class=\"red\">...</span>`\n",
    "    2. Each name is surrounded by `<span class=\"green\">...</span>`"
   ]
  },
  {
   "cell_type": "markdown",
   "metadata": {},
   "source": [
    "### CSS Selectors\n",
    "\n",
    "* **CSS selector** applies style to call matching tags.\n",
    "* The following selector is\n",
    "    * named `green`\n",
    "    * Applies a <font color=\"#55ff55\">green</font> font\n",
    "\n",
    "```\n",
    ".green{\n",
    "\tcolor:#55ff55;\n",
    "}\n",
    "```"
   ]
  },
  {
   "cell_type": "markdown",
   "metadata": {},
   "source": [
    "### Applying CSS selectors to HTML tags\n",
    "\n",
    "* Apply a selector with the `class` attribute.\n",
    "* We can apply the `green` selector using\n",
    "\n",
    "```\n",
    "<span class=\"green\">...</span>\n",
    "```\n",
    "* Imagine that `class=\"green\"` is the same as \n",
    "```\n",
    "<span color=\"#55ff55\">...</span>\n",
    "```\n"
   ]
  },
  {
   "cell_type": "markdown",
   "metadata": {},
   "source": [
    "### Reading War and Peace"
   ]
  },
  {
   "cell_type": "code",
   "execution_count": null,
   "metadata": {},
   "outputs": [],
   "source": [
    "import requests\n",
    "from bs4 import BeautifulSoup\n",
    "s = requests.Session()\n",
    "r = s.get('http://www.pythonscraping.com/pages/warandpeace.html')\n",
    "war_and_peace = BeautifulSoup(r.content, \"html.parser\")"
   ]
  },
  {
   "cell_type": "code",
   "execution_count": null,
   "metadata": {},
   "outputs": [],
   "source": [
    "war_and_peace"
   ]
  },
  {
   "cell_type": "markdown",
   "metadata": {},
   "source": [
    "## Searching for HTML Attributes\n",
    "\n",
    "We can search for any HTML tag by attribute using `find` and `find_all`.  This method of searching is particularly advantagous when dealing with pages that styled using CSS selectors, as most/all tags will be marked with a `class` attribute and these attributes many times are related to the context of the content.\n",
    "\n",
    "In this section, we will illustrate searching with tag attributes using `find` and `find_all`"
   ]
  },
  {
   "cell_type": "markdown",
   "metadata": {},
   "source": [
    "### A note on `find` and `find_all`\n",
    "\n",
    "* `soup.find` returns the first matching tag\n",
    "* `soup.find_all` returns a list of all matching tags"
   ]
  },
  {
   "cell_type": "code",
   "execution_count": null,
   "metadata": {},
   "outputs": [],
   "source": [
    "war_and_peace.find('span')"
   ]
  },
  {
   "cell_type": "code",
   "execution_count": null,
   "metadata": {},
   "outputs": [],
   "source": [
    "help(war_and_peace.find)"
   ]
  },
  {
   "cell_type": "code",
   "execution_count": null,
   "metadata": {
    "scrolled": true
   },
   "outputs": [],
   "source": [
    "war_and_peace.find_all('span')[:2]"
   ]
  },
  {
   "cell_type": "markdown",
   "metadata": {},
   "source": [
    "### pipeable `find` and `find_all`\n",
    "\n",
    "The module `composablesoup` contains pipeable helper functions for both functions, which we will use exclusively to allow readability and composability."
   ]
  },
  {
   "cell_type": "code",
   "execution_count": null,
   "metadata": {},
   "outputs": [],
   "source": [
    "(war_and_peace \n",
    " >> find('span')\n",
    ")"
   ]
  },
  {
   "cell_type": "code",
   "execution_count": null,
   "metadata": {
    "scrolled": true
   },
   "outputs": [],
   "source": [
    "(war_and_peace\n",
    " >> find_all('span')\n",
    " >> head(2)\n",
    ")"
   ]
  },
  {
   "cell_type": "markdown",
   "metadata": {},
   "source": [
    "### Use `find_all` when \n",
    "\n",
    "* There might be multiple instances\n",
    "* (almost always, it's a safer option)"
   ]
  },
  {
   "cell_type": "markdown",
   "metadata": {},
   "source": [
    "### Use `find` when \n",
    "\n",
    "* You know there is exactly one instance\n",
    "* You know you really only want the first\n",
    "* (almost never, `find_all` is almost always better)"
   ]
  },
  {
   "cell_type": "markdown",
   "metadata": {},
   "source": [
    "### Two ways to search tag attributes\n",
    "\n",
    "* Dictionary: `bs.find_all('span', {'class': 'green'})`\n",
    "* Keyword: `bs.find_all('span', class_ = green)`\n",
    "\n",
    "**Note:** We use the keyword `class_` here because `class` is a protected Python keyword that is only used to define classes.  Other attributes, like `src`, do not need the added `_` at the end."
   ]
  },
  {
   "cell_type": "markdown",
   "metadata": {},
   "source": [
    "### Getting all names using an attribute dictionary"
   ]
  },
  {
   "cell_type": "code",
   "execution_count": null,
   "metadata": {
    "scrolled": true
   },
   "outputs": [],
   "source": [
    "(war_and_peace\n",
    " >> find_all('span', attrs = {'class':'green'})\n",
    " >> head(3)\n",
    ")"
   ]
  },
  {
   "cell_type": "markdown",
   "metadata": {},
   "source": [
    "### Cleaning up the name tags"
   ]
  },
  {
   "cell_type": "code",
   "execution_count": null,
   "metadata": {
    "scrolled": true
   },
   "outputs": [],
   "source": [
    "(war_and_peace\n",
    " >> find_all('span', attrs = {'class':'green'})\n",
    " >> map(get_text)\n",
    " >> head(3)\n",
    ")"
   ]
  },
  {
   "cell_type": "code",
   "execution_count": null,
   "metadata": {
    "scrolled": true
   },
   "outputs": [],
   "source": [
    "(war_and_peace\n",
    " >> find_all('span', attrs = {'class':'green'})\n",
    " >> map(get_text)\n",
    " >> map(replace('\\n', ' '))\n",
    " >> head(3)\n",
    ")"
   ]
  },
  {
   "cell_type": "code",
   "execution_count": null,
   "metadata": {},
   "outputs": [],
   "source": [
    "from composable.string import split\n",
    "from composable import pipeable\n",
    "\n",
    "lower = pipeable(lambda s: s.lower())\n",
    "\n",
    "(war_and_peace\n",
    "#>> head(5)\n",
    ">> find_all('span', attrs = {'class':'green'})\n",
    ">> map(get_text)\n",
    ">> map(replace('\\n', ' '))\n",
    ">> map(split(' '))\n",
    ">> map(map(lower))\n",
    "\n",
    ")"
   ]
  },
  {
   "cell_type": "markdown",
   "metadata": {},
   "source": [
    "### Getting all quotes using the `class_` keyword"
   ]
  },
  {
   "cell_type": "code",
   "execution_count": null,
   "metadata": {
    "scrolled": true
   },
   "outputs": [],
   "source": [
    "(war_and_peace\n",
    " >> find_all('span', attrs = {'class':'red'})\n",
    " >> head(2)\n",
    ")"
   ]
  },
  {
   "cell_type": "markdown",
   "metadata": {},
   "source": [
    "<font color=\"red\"><h2>Exercise 1</h2></font>\n",
    "\n",
    "Write a list comprehension to \n",
    "\n",
    "1. Pull each quote out of the `span` tag.\n",
    "2. Wrap the quote in `\"`"
   ]
  },
  {
   "cell_type": "code",
   "execution_count": null,
   "metadata": {},
   "outputs": [],
   "source": [
    "\n",
    "quote_concat = pipeable(lambda s: '\"' + s + '\"')\n",
    "\n",
    "(war_and_peace\n",
    ">> find_all('span', attrs = {'class':'red'})\n",
    ">> map(get_text)\n",
    ">> map(quote_concat)\n",
    ">> head(3)\n",
    ")\n"
   ]
  },
  {
   "cell_type": "markdown",
   "metadata": {},
   "source": [
    "## Getting Data From Tag Attributes\n",
    "\n",
    "Other, non-CSS attributes have information embedded in thier attributes. For example,\n",
    "\n",
    "* `src` attribute in `img` tags\n",
    "* `href` tag in `a` tags.\n",
    "\n",
    "In this section, we will looks at pulling this information out of a tag."
   ]
  },
  {
   "cell_type": "markdown",
   "metadata": {},
   "source": [
    "### Reading the Wikipedia Web Scraping Page"
   ]
  },
  {
   "cell_type": "code",
   "execution_count": null,
   "metadata": {},
   "outputs": [],
   "source": [
    "import requests\n",
    "from bs4 import BeautifulSoup\n",
    "s = requests.Session() # Start a session\n",
    "r = s.get('https://en.wikipedia.org/wiki/Web_scraping') # Get a static page\n",
    "web_scraping = BeautifulSoup(r.content, \"html.parser\")"
   ]
  },
  {
   "cell_type": "markdown",
   "metadata": {},
   "source": [
    "### Step 1 - Search For All Tags"
   ]
  },
  {
   "cell_type": "code",
   "execution_count": null,
   "metadata": {
    "scrolled": true
   },
   "outputs": [],
   "source": [
    "(web_scraping\n",
    " >> find_all('a')\n",
    " >> head(10)\n",
    ")"
   ]
  },
  {
   "cell_type": "markdown",
   "metadata": {},
   "source": [
    "### Accessing Attribute Data Looks Like Indexing\n",
    "\n",
    "* **Syntax:** `tag[attribute_string]`\n",
    "* This returns the corresponding data"
   ]
  },
  {
   "cell_type": "code",
   "execution_count": null,
   "metadata": {},
   "outputs": [],
   "source": [
    "example_a_tag1 = (web_scraping\n",
    "                 >> find_all('a')\n",
    "                 >> head(3)\n",
    "                 >> tlz.get(1)\n",
    "                )\n",
    "example_a_tag1"
   ]
  },
  {
   "cell_type": "code",
   "execution_count": null,
   "metadata": {},
   "outputs": [],
   "source": [
    "#example_a_tag1['href']\n",
    "example_a_tag1 >> tlz.get('href')"
   ]
  },
  {
   "cell_type": "markdown",
   "metadata": {},
   "source": [
    "### Searching for Non-existant Attributes is BAD\n",
    "\n",
    "* If the attribute doesn't exist, we will get an exception"
   ]
  },
  {
   "cell_type": "code",
   "execution_count": null,
   "metadata": {},
   "outputs": [],
   "source": [
    "example_a_tag2 = (web_scraping\n",
    "                 >> find_all('a')\n",
    "                 >> head(3)\n",
    "                 >> tlz.get(0)\n",
    "                )\n",
    "example_a_tag2"
   ]
  },
  {
   "cell_type": "code",
   "execution_count": null,
   "metadata": {},
   "outputs": [],
   "source": [
    "example_a_tag2['href']"
   ]
  },
  {
   "cell_type": "markdown",
   "metadata": {},
   "source": [
    "### Using a filter to avoid exceptions\n",
    "\n",
    "* We can use a comprehension to filter out exceptions\n",
    "* Use the `has_attr` Tag method"
   ]
  },
  {
   "cell_type": "code",
   "execution_count": null,
   "metadata": {
    "scrolled": true
   },
   "outputs": [],
   "source": [
    "(web_scraping\n",
    " >> find_all('a')\n",
    " >> filter(has_attr('href'))\n",
    " >> head(3)\n",
    ")"
   ]
  },
  {
   "cell_type": "code",
   "execution_count": null,
   "metadata": {
    "scrolled": true
   },
   "outputs": [],
   "source": [
    "(web_scraping\n",
    " >> find_all('a')\n",
    " >> filter(has_attr('href'))\n",
    " >> map(tlz.get('href'))\n",
    " >> head(10)\n",
    ")"
   ]
  },
  {
   "cell_type": "markdown",
   "metadata": {},
   "source": [
    "<font color=\"red\"><h2>Exercise 2</h2></font>\n",
    "\n",
    "Write a list comprehension to get the `src` for all `img` tags on the Wikipedia site."
   ]
  },
  {
   "cell_type": "code",
   "execution_count": null,
   "metadata": {},
   "outputs": [],
   "source": [
    "All = web_scraping >> find_all('a') >> filter(has_attr('href'))\n",
    "#All\n",
    "[x for x in All if x.find('img')]\n"
   ]
  },
  {
   "cell_type": "markdown",
   "metadata": {},
   "source": [
    "<font color=\"red\"><h2>Exercise 3</h2></font>\n",
    "\n",
    "Get all image `src` and link `href` from your Assignment 1 website."
   ]
  },
  {
   "cell_type": "code",
   "execution_count": null,
   "metadata": {},
   "outputs": [],
   "source": []
  },
  {
   "cell_type": "markdown",
   "metadata": {},
   "source": [
    "## More Complicated Searches\n",
    "\n",
    "Next, we will\n",
    "\n",
    "* Search for multiple tags at once\n",
    "* Search for more than one class"
   ]
  },
  {
   "cell_type": "markdown",
   "metadata": {},
   "source": [
    "### Searching for a list of tags\n",
    "\n",
    "Using a list of tags with `find_all` returns all such tags."
   ]
  },
  {
   "cell_type": "code",
   "execution_count": null,
   "metadata": {},
   "outputs": [],
   "source": [
    "(war_and_peace\n",
    " >> find_all(['h1', 'h2','h3','h4','h5','h6'])\n",
    ")"
   ]
  },
  {
   "cell_type": "markdown",
   "metadata": {},
   "source": [
    "### Matching more than one attribute\n",
    "\n",
    "We can match more than one `class` using a set of attribute values"
   ]
  },
  {
   "cell_type": "code",
   "execution_count": null,
   "metadata": {
    "scrolled": true
   },
   "outputs": [],
   "source": [
    "(war_and_peace\n",
    " >> find_all('span', attrs = {'class':{'green', 'red'}})\n",
    " >> head(3)\n",
    ")"
   ]
  },
  {
   "cell_type": "markdown",
   "metadata": {},
   "source": [
    "### Searching tag text only\n",
    "\n",
    "We can search text only using the `text` keyword."
   ]
  },
  {
   "cell_type": "code",
   "execution_count": null,
   "metadata": {
    "scrolled": false
   },
   "outputs": [],
   "source": [
    "(war_and_peace\n",
    " >> find_all(None, text='the prince')\n",
    ")"
   ]
  },
  {
   "cell_type": "markdown",
   "metadata": {},
   "source": [
    "### Text search return a NavigableString\n",
    "\n",
    "* More than text\n",
    "* Allow access to surrounding tags"
   ]
  },
  {
   "cell_type": "code",
   "execution_count": null,
   "metadata": {
    "scrolled": false
   },
   "outputs": [],
   "source": [
    "(war_and_peace\n",
    " >> find_all(None, text='the prince')\n",
    " >> map(type)\n",
    ")"
   ]
  },
  {
   "cell_type": "markdown",
   "metadata": {},
   "source": [
    "### Getting the surrounding tag with `parent`\n",
    "\n",
    "More information on parent tags is on the way"
   ]
  },
  {
   "cell_type": "code",
   "execution_count": null,
   "metadata": {
    "scrolled": false
   },
   "outputs": [],
   "source": [
    "(war_and_peace\n",
    " >> find_all(None, text='the prince')\n",
    " >> map(lambda ns: ns.parent)\n",
    ")"
   ]
  }
 ],
 "metadata": {
  "kernelspec": {
   "display_name": "Python 3",
   "language": "python",
   "name": "python3"
  },
  "language_info": {
   "codemirror_mode": {
    "name": "ipython",
    "version": 3
   },
   "file_extension": ".py",
   "mimetype": "text/x-python",
   "name": "python",
   "nbconvert_exporter": "python",
   "pygments_lexer": "ipython3",
   "version": "3.8.3-final"
  }
 },
 "nbformat": 4,
 "nbformat_minor": 2
}