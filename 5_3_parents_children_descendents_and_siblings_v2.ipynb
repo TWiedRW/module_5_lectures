{
 "cells": [
  {
   "cell_type": "markdown",
   "metadata": {},
   "source": [
    "## Attribution\n",
    "\n",
    "These slides were adapted from [the companion notebooks](https://github.com/REMitchell/python-scraping) for [Web Scraping in Python](http://shop.oreilly.com/product/0636920034391.do), which are open sourced and provided for free.  If you are interested in a more detailed presentation of web scraping in Python, this book is a great source."
   ]
  },
  {
   "cell_type": "code",
   "execution_count": null,
   "metadata": {},
   "outputs": [],
   "source": [
    "# Install if needed\n",
    "!pip install composable\n",
    "!pip install composablesoup"
   ]
  },
  {
   "cell_type": "code",
   "execution_count": null,
   "metadata": {
    "scrolled": true
   },
   "outputs": [],
   "source": [
    "# Check for upgrade is already installed\n",
    "!pip install composable --upgrade\n",
    "!pip install composablesoup --upgrade"
   ]
  },
  {
   "cell_type": "code",
   "execution_count": null,
   "metadata": {},
   "outputs": [],
   "source": [
    "from composable import pipeable\n",
    "from composable.strict import map, filter\n",
    "from composablesoup import find, find_all, get_text, has_attr\n",
    "from composablesoup.soup import find_parent, parents, children, find_previous_sibling, find_previous_siblings, find_next_sibling, find_next_siblings, find_previous_sibling\n",
    "from composable.sequence import to_list, head\n",
    "from composable.string import strip\n",
    "from composable import from_toolz as tlz"
   ]
  },
  {
   "cell_type": "markdown",
   "metadata": {},
   "source": [
    "## Parents, Children and Siblings\n",
    "\n",
    "Beautiful search objects keep reference to all surrounding tags and we will need to exploit these relationships when we can't find a tag through a direct search.  In this section, we will investigate these relationships and using them to access the desired tags."
   ]
  },
  {
   "cell_type": "markdown",
   "metadata": {},
   "source": [
    "### Definitions\n",
    "\n",
    "Many tags have the following relationships. \n",
    "\n",
    "* **Parents:** Closest surrounding tag\n",
    "* **Children:** All tag immediately inside a tag\n",
    "    * EXACTLY one level deep\n",
    "* **Descendents:** All embedded tags\n",
    "    * ANY depth\n",
    "* **Siblings:** All tags on the same level\n",
    "    * i.e. all children of the surrounding tag."
   ]
  },
  {
   "cell_type": "markdown",
   "metadata": {},
   "source": [
    "### Working example\n",
    "\n",
    "Please visit [this page](http://www.pythonscraping.com/pages/page3.html) and inspect the source."
   ]
  },
  {
   "cell_type": "code",
   "execution_count": null,
   "metadata": {},
   "outputs": [],
   "source": [
    "import requests\n",
    "from bs4 import BeautifulSoup\n",
    "s = requests.Session()\n",
    "r = s.get('http://www.pythonscraping.com/pages/page3.html')\n",
    "items_for_sale = BeautifulSoup(r.content, 'html.parser')"
   ]
  },
  {
   "cell_type": "markdown",
   "metadata": {},
   "source": [
    "### Plotting the DOM\n",
    "\n",
    "* HTML\n",
    "    * body\n",
    "        * div.wrapper\n",
    "            * h1\n",
    "            * div.content\n",
    "            * table#giftList\n",
    "                * tr\n",
    "                    * th\n",
    "                    * th\n",
    "                    * th\n",
    "                    * th\n",
    "                * tr.gift#gift\n",
    "                    * td\n",
    "                    * td\n",
    "                        * span.excitingNote\n",
    "                    * td\n",
    "                    * td\n",
    "                        * img\n",
    "                *  ... table continues ...\n",
    "            * div.footer"
   ]
  },
  {
   "cell_type": "markdown",
   "metadata": {},
   "source": [
    "<font color=\"red\"><h2>Exercise 1</h2></font>\n",
    "\n",
    "Identify the parents of\n",
    "\n",
    "1. `table#giftList1`\n",
    "2. `span.excitingNote`"
   ]
  },
  {
   "cell_type": "markdown",
   "metadata": {},
   "source": [
    "> Your answer here"
   ]
  },
  {
   "cell_type": "markdown",
   "metadata": {},
   "source": []
  },
  {
   "cell_type": "markdown",
   "metadata": {},
   "source": [
    "<font color=\"red\"><h2>Exercise 2</h2></font>\n",
    "\n",
    "Identify the children of\n",
    "\n",
    "1. `table#giftList1`\n",
    "2. `tr.gift#gift`"
   ]
  },
  {
   "cell_type": "markdown",
   "metadata": {},
   "source": [
    "> Your answer here"
   ]
  },
  {
   "cell_type": "markdown",
   "metadata": {},
   "source": [
    "<font color=\"red\"><h2>Exercise 3</h2></font>\n",
    "\n",
    "Describe (in words) the descendents of `table#giftList1`"
   ]
  },
  {
   "cell_type": "markdown",
   "metadata": {},
   "source": [
    "> Your answer here"
   ]
  },
  {
   "cell_type": "markdown",
   "metadata": {},
   "source": [
    "<font color=\"red\"><h2>Exercise 4</h2></font>\n",
    "\n",
    "Identify the siblings of `tr.gift#gift`"
   ]
  },
  {
   "cell_type": "markdown",
   "metadata": {},
   "source": [
    "> Your answer here"
   ]
  },
  {
   "cell_type": "markdown",
   "metadata": {},
   "source": [
    "### Stepping up a level with `find_parent`\n",
    "\n",
    "We can access the parent of any tag using the `parent` attribute"
   ]
  },
  {
   "cell_type": "code",
   "execution_count": null,
   "metadata": {
    "scrolled": true
   },
   "outputs": [],
   "source": [
    "(items_for_sale\n",
    " >> find('tr', class_ = 'gift')\n",
    " >> find_parent\n",
    ")"
   ]
  },
  {
   "cell_type": "markdown",
   "metadata": {},
   "source": [
    "### Stepping up two levels with 2*`find_parent`\n",
    "\n",
    "Applying `find_parent` twice will step us up two levels."
   ]
  },
  {
   "cell_type": "code",
   "execution_count": null,
   "metadata": {
    "scrolled": true
   },
   "outputs": [],
   "source": [
    "(items_for_sale\n",
    " >> find('tr', class_ = 'gift')\n",
    " >> find_parent\n",
    " >> find_parent\n",
    ")"
   ]
  },
  {
   "cell_type": "markdown",
   "metadata": {},
   "source": [
    "### Searching for a specif parents.\n",
    "\n",
    "We can also use `find_parent` two search for the closest parent that fits some description."
   ]
  },
  {
   "cell_type": "code",
   "execution_count": null,
   "metadata": {
    "scrolled": true
   },
   "outputs": [],
   "source": [
    "(items_for_sale\n",
    " >> find('tr', class_ = 'gift')\n",
    " >> find_parent(name='div', attrs={'id':'wrapper'})\n",
    ")"
   ]
  },
  {
   "cell_type": "markdown",
   "metadata": {},
   "source": [
    "### Searching for children\n",
    "\n",
    "Note that we are using `find` (why?) with the `children` attribute"
   ]
  },
  {
   "cell_type": "code",
   "execution_count": 1,
   "metadata": {
    "scrolled": true
   },
   "outputs": [
    {
     "output_type": "error",
     "ename": "NameError",
     "evalue": "name 'items_for_sale' is not defined",
     "traceback": [
      "\u001b[0;31m---------------------------------------------------------------------------\u001b[0m",
      "\u001b[0;31mNameError\u001b[0m                                 Traceback (most recent call last)",
      "\u001b[0;32m<ipython-input-1-c41c96936e7f>\u001b[0m in \u001b[0;36m<module>\u001b[0;34m\u001b[0m\n\u001b[0;32m----> 1\u001b[0;31m (items_for_sale\n\u001b[0m\u001b[1;32m      2\u001b[0m  \u001b[0;34m>>\u001b[0m \u001b[0mfind\u001b[0m\u001b[0;34m(\u001b[0m\u001b[0;34m'table'\u001b[0m\u001b[0;34m,\u001b[0m\u001b[0mattrs\u001b[0m\u001b[0;34m=\u001b[0m\u001b[0;34m{\u001b[0m\u001b[0;34m'id'\u001b[0m\u001b[0;34m:\u001b[0m\u001b[0;34m'giftList'\u001b[0m\u001b[0;34m}\u001b[0m\u001b[0;34m)\u001b[0m\u001b[0;34m\u001b[0m\u001b[0;34m\u001b[0m\u001b[0m\n\u001b[1;32m      3\u001b[0m  \u001b[0;34m>>\u001b[0m \u001b[0mchildren\u001b[0m\u001b[0;34m\u001b[0m\u001b[0;34m\u001b[0m\u001b[0m\n\u001b[1;32m      4\u001b[0m )\n",
      "\u001b[0;31mNameError\u001b[0m: name 'items_for_sale' is not defined"
     ]
    }
   ],
   "source": [
    "(items_for_sale\n",
    " >> find('table',attrs={'id':'giftList'})\n",
    " >> children\n",
    ")"
   ]
  },
  {
   "cell_type": "markdown",
   "metadata": {},
   "source": [
    "### Accessing the last and next siblings\n",
    "\n",
    "* `find_previous_sibling` returns closest previous sibling\n",
    "* `find_previous_siblings` returns all previous sibling"
   ]
  },
  {
   "cell_type": "code",
   "execution_count": null,
   "metadata": {},
   "outputs": [],
   "source": [
    "(items_for_sale \n",
    " >> find('tr', id = 'gift3')\n",
    " >> find_previous_sibling\n",
    ")"
   ]
  },
  {
   "cell_type": "code",
   "execution_count": null,
   "metadata": {},
   "outputs": [],
   "source": [
    "(items_for_sale \n",
    " >> find('tr', id = 'gift3')\n",
    " >> find_previous_siblings\n",
    ")"
   ]
  },
  {
   "cell_type": "markdown",
   "metadata": {},
   "source": [
    "### Accessing the last and next siblings\n",
    "\n",
    "* `find_next_sibling` returns closest remaining sibling\n",
    "* `find_next_siblings` returns all remaining sibling"
   ]
  },
  {
   "cell_type": "code",
   "execution_count": null,
   "metadata": {},
   "outputs": [],
   "source": [
    "(items_for_sale \n",
    " >> find('tr', class_ = 'gift')\n",
    " >> find_next_sibling\n",
    ")"
   ]
  },
  {
   "cell_type": "code",
   "execution_count": null,
   "metadata": {},
   "outputs": [],
   "source": [
    "(items_for_sale \n",
    " >> find('tr', class_ = 'gift')\n",
    " >> find_next_siblings\n",
    ")"
   ]
  },
  {
   "cell_type": "markdown",
   "metadata": {},
   "source": [
    "### Searching the last and next siblings\n",
    "\n",
    "We can also use these four functions to search for specific tags"
   ]
  },
  {
   "cell_type": "code",
   "execution_count": null,
   "metadata": {
    "scrolled": true
   },
   "outputs": [],
   "source": [
    "(items_for_sale \n",
    " >> find('tr', class_ = 'gift')\n",
    " >> find_next_sibling(attrs={'id':'gift4'})\n",
    ")"
   ]
  },
  {
   "cell_type": "code",
   "execution_count": null,
   "metadata": {},
   "outputs": [],
   "source": [
    "import re\n",
    "four_or_five = re.compile('(gift4|gift5)')\n",
    "(items_for_sale \n",
    " >> find('tr', class_ = 'gift')\n",
    " >> find_next_siblings(attrs={'id':four_or_five})\n",
    ")"
   ]
  },
  {
   "cell_type": "markdown",
   "metadata": {},
   "source": [
    "<font color=\"red\"><h2>Exercise 5</h2></font>\n",
    "\n",
    "* Look at the site source again, \n",
    "    * specifically item prices.\n",
    "* How can we get to these prices?"
   ]
  },
  {
   "cell_type": "code",
   "execution_count": null,
   "metadata": {},
   "outputs": [],
   "source": []
  },
  {
   "cell_type": "markdown",
   "metadata": {},
   "source": [
    "### Using relationships to find unlabeled data.\n",
    "\n",
    "\n",
    "* tr.gift#gift1\n",
    "    * td\n",
    "    * td\n",
    "    * td\n",
    "        * \"$15.00\"\n",
    "    * td\n",
    "        * `<img src=\"/img/gifts/img1.jpg\"/>`"
   ]
  },
  {
   "cell_type": "code",
   "execution_count": null,
   "metadata": {},
   "outputs": [],
   "source": [
    "(items_for_sale\n",
    " >> find('tr', id = 'gift1')\n",
    ")"
   ]
  },
  {
   "cell_type": "code",
   "execution_count": null,
   "metadata": {},
   "outputs": [],
   "source": [
    "(items_for_sale\n",
    " >> find('tr', id = 'gift1')\n",
    " >> find('img')\n",
    ")"
   ]
  },
  {
   "cell_type": "code",
   "execution_count": null,
   "metadata": {},
   "outputs": [],
   "source": [
    "(items_for_sale\n",
    " >> find('tr', id = 'gift1')\n",
    " >> find('img')\n",
    " >> find_parent\n",
    ")"
   ]
  },
  {
   "cell_type": "code",
   "execution_count": null,
   "metadata": {},
   "outputs": [],
   "source": [
    "(items_for_sale\n",
    " >> find('tr', id = 'gift1')\n",
    " >> find('img')\n",
    " >> find_parent\n",
    " >> find_previous_sibling\n",
    ")"
   ]
  },
  {
   "cell_type": "code",
   "execution_count": null,
   "metadata": {},
   "outputs": [],
   "source": [
    "(items_for_sale\n",
    " >> find('tr', id = 'gift1')\n",
    " >> find('img')\n",
    " >> find_parent\n",
    " >> find_previous_sibling\n",
    " >> get_text\n",
    ")"
   ]
  },
  {
   "cell_type": "code",
   "execution_count": null,
   "metadata": {},
   "outputs": [],
   "source": [
    "(items_for_sale\n",
    " >> find('tr', id = 'gift1')\n",
    " >> find('img')\n",
    " >> find_parent\n",
    " >> find_previous_sibling\n",
    " >> get_text\n",
    " >> strip\n",
    ")"
   ]
  },
  {
   "cell_type": "markdown",
   "metadata": {},
   "source": [
    "<font color=\"red\"><h2>Exercise 6</h2></font>\n",
    "\n",
    "See if you can get all of the prices with one pipe"
   ]
  },
  {
   "cell_type": "code",
   "execution_count": null,
   "metadata": {},
   "outputs": [],
   "source": []
  }
 ],
 "metadata": {
  "kernelspec": {
   "display_name": "Python 3",
   "language": "python",
   "name": "python3"
  },
  "language_info": {
   "codemirror_mode": {
    "name": "ipython",
    "version": 3
   },
   "file_extension": ".py",
   "mimetype": "text/x-python",
   "name": "python",
   "nbconvert_exporter": "python",
   "pygments_lexer": "ipython3",
   "version": "3.8.3-final"
  }
 },
 "nbformat": 4,
 "nbformat_minor": 2
}