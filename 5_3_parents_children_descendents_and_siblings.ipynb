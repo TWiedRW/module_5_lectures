{
 "cells": [
  {
   "cell_type": "markdown",
   "metadata": {},
   "source": [
    "## Attribution\n",
    "\n",
    "These slides were adapted from [the companion notebooks](https://github.com/REMitchell/python-scraping) for [Web Scraping in Python](http://shop.oreilly.com/product/0636920034391.do), which are open sourced and provided for free.  If you are interested in a more detailed presentation of web scraping in Python, this book is a great source."
   ]
  },
  {
   "cell_type": "code",
   "execution_count": null,
   "metadata": {},
   "outputs": [],
   "source": [
    "# Install if needed\n",
    "!pip install composable\n",
    "!pip install composablesoup"
   ]
  },
  {
   "cell_type": "code",
   "execution_count": null,
   "metadata": {
    "scrolled": true
   },
   "outputs": [],
   "source": [
    "# Check for upgrade is already installed\n",
    "!pip install composable --upgrade\n",
    "!pip install composablesoup --upgrade"
   ]
  },
  {
   "cell_type": "code",
   "execution_count": null,
   "metadata": {},
   "outputs": [],
   "source": [
    "from composable import pipeable\n",
    "from composable.strict import map, filter\n",
    "from composablesoup import find, find_all, get_text, has_attr\n",
    "from composablesoup.soup import find_parent, parents, children, find_previous_sibling, find_previous_siblings, find_next_sibling, find_next_siblings, find_previous_sibling\n",
    "from composable.sequence import to_list, head\n",
    "from composable.string import strip\n",
    "from composable import from_toolz as tlz"
   ]
  },
  {
   "cell_type": "markdown",
   "metadata": {},
   "source": [
    "## Parents, Children and Siblings\n",
    "\n",
    "Beautiful search objects keep reference to all surrounding tags and we will need to exploit these relationships when we can't find a tag through a direct search.  In this section, we will investigate these relationships and using them to access the desired tags."
   ]
  },
  {
   "cell_type": "markdown",
   "metadata": {},
   "source": [
    "### Definitions\n",
    "\n",
    "Many tags have the following relationships. \n",
    "\n",
    "* **Parents:** Closest surrounding tag\n",
    "* **Children:** All tag immediately inside a tag\n",
    "    * EXACTLY one level deep\n",
    "* **Descendents:** All embedded tags\n",
    "    * ANY depth\n",
    "* **Siblings:** All tags on the same level\n",
    "    * i.e. all children of the surrounding tag."
   ]
  },
  {
   "cell_type": "markdown",
   "metadata": {},
   "source": [
    "### Working example\n",
    "\n",
    "Please visit [this page](http://www.pythonscraping.com/pages/page3.html) and inspect the source."
   ]
  },
  {
   "cell_type": "code",
   "execution_count": null,
   "metadata": {},
   "outputs": [],
   "source": [
    "import requests\n",
    "from bs4 import BeautifulSoup\n",
    "s = requests.Session()\n",
    "r = s.get('http://www.pythonscraping.com/pages/page3.html')\n",
    "items_for_sale = BeautifulSoup(r.content, 'html.parser')"
   ]
  },
  {
   "cell_type": "markdown",
   "metadata": {},
   "source": [
    "### Plotting the DOM\n",
    "\n",
    "* HTML\n",
    "    * body\n",
    "        * div.wrapper\n",
    "            * h1\n",
    "            * div.content\n",
    "            * table#giftList\n",
    "                * tr\n",
    "                    * th\n",
    "                    * th\n",
    "                    * th\n",
    "                    * th\n",
    "                * tr.gift#gift\n",
    "                    * td\n",
    "                    * td\n",
    "                        * span.excitingNote\n",
    "                    * td\n",
    "                    * td\n",
    "                        * img\n",
    "                *  ... table continues ...\n",
    "            * div.footer"
   ]
  },
  {
   "cell_type": "markdown",
   "metadata": {},
   "source": [
    "<font color=\"red\"><h2>Exercise 1</h2></font>\n",
    "\n",
    "Identify the parents of\n",
    "\n",
    "1. `table#giftList1`\n",
    "2. `span.excitingNote`"
   ]
  },
  {
   "cell_type": "markdown",
   "metadata": {},
   "source": [
    "# Answer\n",
    "1. div.wrapper\n",
    "2. td"
   ]
  },
  {
   "cell_type": "markdown",
   "metadata": {},
   "source": []
  },
  {
   "cell_type": "markdown",
   "metadata": {},
   "source": [
    "<font color=\"red\"><h2>Exercise 2</h2></font>\n",
    "\n",
    "Identify the children of\n",
    "\n",
    "1. `table#giftList1`\n",
    "2. `tr.gift#gift`"
   ]
  },
  {
   "cell_type": "markdown",
   "metadata": {},
   "source": [
    "# Answer\n",
    "1. tr, tr.gift#gift, '... table continues ...'\n",
    "2. td"
   ]
  },
  {
   "cell_type": "markdown",
   "metadata": {},
   "source": [
    "<font color=\"red\"><h2>Exercise 3</h2></font>\n",
    "\n",
    "Describe (in words) the descendents of `table#giftList1`"
   ]
  },
  {
   "cell_type": "markdown",
   "metadata": {},
   "source": [
    "# Answer\n",
    "\n",
    "NEED AN ANSWER HERE"
   ]
  },
  {
   "cell_type": "markdown",
   "metadata": {},
   "source": [
    "<font color=\"red\"><h2>Exercise 4</h2></font>\n",
    "\n",
    "Identify the siblings of `tr.gift#gift`"
   ]
  },
  {
   "cell_type": "markdown",
   "metadata": {},
   "source": [
    "1. h1, div.content, div.footer"
   ]
  },
  {
   "cell_type": "markdown",
   "metadata": {},
   "source": [
    "### Stepping up a level with `find_parent`\n",
    "\n",
    "We can access the parent of any tag using the `parent` attribute"
   ]
  },
  {
   "cell_type": "code",
   "execution_count": null,
   "metadata": {
    "scrolled": true
   },
   "outputs": [],
   "source": [
    "(items_for_sale\n",
    " >> find('tr', class_ = 'gift') #Same as below\n",
    " #>> find('tr', attrs = {'class'='gift'})\n",
    " >> find_parent\n",
    ")"
   ]
  },
  {
   "cell_type": "markdown",
   "metadata": {},
   "source": [
    "### Stepping up two levels with 2*`find_parent`\n",
    "\n",
    "Applying `find_parent` twice will step us up two levels."
   ]
  },
  {
   "cell_type": "code",
   "execution_count": null,
   "metadata": {
    "scrolled": true
   },
   "outputs": [],
   "source": [
    "(items_for_sale\n",
    " >> find('tr', class_ = 'gift')\n",
    " >> find_parent\n",
    " >> find_parent\n",
    ")"
   ]
  },
  {
   "cell_type": "markdown",
   "metadata": {},
   "source": [
    "### Searching for a specif parents.\n",
    "\n",
    "We can also use `find_parent` two search for the closest parent that fits some description."
   ]
  },
  {
   "cell_type": "code",
   "execution_count": null,
   "metadata": {
    "scrolled": true
   },
   "outputs": [],
   "source": [
    "(items_for_sale\n",
    " >> find('tr', class_ = 'gift')\n",
    " >> find_parent(name='div', attrs={'id':'wrapper'})\n",
    ")"
   ]
  },
  {
   "cell_type": "markdown",
   "metadata": {},
   "source": [
    "### Searching for children\n",
    "\n",
    "Note that we are using `find` (why?) with the `children` attribute"
   ]
  },
  {
   "cell_type": "code",
   "execution_count": null,
   "metadata": {
    "scrolled": true
   },
   "outputs": [],
   "source": [
    "(items_for_sale\n",
    " >> find('table',attrs={'id':'giftList'})\n",
    " >> children\n",
    ")"
   ]
  },
  {
   "cell_type": "markdown",
   "metadata": {},
   "source": [
    "### Accessing the last and next siblings\n",
    "\n",
    "* `find_previous_sibling` returns closest previous sibling\n",
    "* `find_previous_siblings` returns all previous sibling\n",
    "> Plural is based on proximity"
   ]
  },
  {
   "cell_type": "code",
   "execution_count": 12,
   "metadata": {},
   "outputs": [
    {
     "output_type": "execute_result",
     "data": {
      "text/plain": [
       "<tr class=\"gift\" id=\"gift2\"><td>\n",
       "Russian Nesting Dolls\n",
       "</td><td>\n",
       "Hand-painted by trained monkeys, these exquisite dolls are priceless! And by \"priceless,\" we mean \"extremely expensive\"! <span class=\"excitingNote\">8 entire dolls per set! Octuple the presents!</span>\n",
       "</td><td>\n",
       "$10,000.52\n",
       "</td><td>\n",
       "<img src=\"../img/gifts/img2.jpg\"/>\n",
       "</td></tr>"
      ]
     },
     "metadata": {},
     "execution_count": 12
    }
   ],
   "source": [
    "(items_for_sale \n",
    " >> find('tr', id = 'gift3')\n",
    " >> find_previous_sibling\n",
    ")"
   ]
  },
  {
   "cell_type": "code",
   "execution_count": 14,
   "metadata": {},
   "outputs": [
    {
     "output_type": "execute_result",
     "data": {
      "text/plain": [
       "[<tr class=\"gift\" id=\"gift2\"><td>\n",
       " Russian Nesting Dolls\n",
       " </td><td>\n",
       " Hand-painted by trained monkeys, these exquisite dolls are priceless! And by \"priceless,\" we mean \"extremely expensive\"! <span class=\"excitingNote\">8 entire dolls per set! Octuple the presents!</span>\n",
       " </td><td>\n",
       " $10,000.52\n",
       " </td><td>\n",
       " <img src=\"../img/gifts/img2.jpg\"/>\n",
       " </td></tr>,\n",
       " <tr class=\"gift\" id=\"gift1\"><td>\n",
       " Vegetable Basket\n",
       " </td><td>\n",
       " This vegetable basket is the perfect gift for your health conscious (or overweight) friends!\n",
       " <span class=\"excitingNote\">Now with super-colorful bell peppers!</span>\n",
       " </td><td>\n",
       " $15.00\n",
       " </td><td>\n",
       " <img src=\"../img/gifts/img1.jpg\"/>\n",
       " </td></tr>,\n",
       " <tr><th>\n",
       " Item Title\n",
       " </th><th>\n",
       " Description\n",
       " </th><th>\n",
       " Cost\n",
       " </th><th>\n",
       " Image\n",
       " </th></tr>]"
      ]
     },
     "metadata": {},
     "execution_count": 14
    }
   ],
   "source": [
    "(items_for_sale \n",
    " >> find('tr', id = 'gift3')\n",
    " >> find_previous_siblings\n",
    ")"
   ]
  },
  {
   "cell_type": "markdown",
   "metadata": {},
   "source": [
    "### Accessing the last and next siblings\n",
    "\n",
    "* `find_next_sibling` returns closest remaining sibling\n",
    "* `find_next_siblings` returns all remaining sibling"
   ]
  },
  {
   "cell_type": "code",
   "execution_count": 15,
   "metadata": {},
   "outputs": [
    {
     "output_type": "execute_result",
     "data": {
      "text/plain": [
       "<tr class=\"gift\" id=\"gift2\"><td>\n",
       "Russian Nesting Dolls\n",
       "</td><td>\n",
       "Hand-painted by trained monkeys, these exquisite dolls are priceless! And by \"priceless,\" we mean \"extremely expensive\"! <span class=\"excitingNote\">8 entire dolls per set! Octuple the presents!</span>\n",
       "</td><td>\n",
       "$10,000.52\n",
       "</td><td>\n",
       "<img src=\"../img/gifts/img2.jpg\"/>\n",
       "</td></tr>"
      ]
     },
     "metadata": {},
     "execution_count": 15
    }
   ],
   "source": [
    "(items_for_sale \n",
    " >> find('tr', class_ = 'gift')\n",
    " >> find_next_sibling\n",
    ")"
   ]
  },
  {
   "cell_type": "code",
   "execution_count": 16,
   "metadata": {},
   "outputs": [
    {
     "output_type": "execute_result",
     "data": {
      "text/plain": [
       "[<tr class=\"gift\" id=\"gift2\"><td>\n",
       " Russian Nesting Dolls\n",
       " </td><td>\n",
       " Hand-painted by trained monkeys, these exquisite dolls are priceless! And by \"priceless,\" we mean \"extremely expensive\"! <span class=\"excitingNote\">8 entire dolls per set! Octuple the presents!</span>\n",
       " </td><td>\n",
       " $10,000.52\n",
       " </td><td>\n",
       " <img src=\"../img/gifts/img2.jpg\"/>\n",
       " </td></tr>,\n",
       " <tr class=\"gift\" id=\"gift3\"><td>\n",
       " Fish Painting\n",
       " </td><td>\n",
       " If something seems fishy about this painting, it's because it's a fish! <span class=\"excitingNote\">Also hand-painted by trained monkeys!</span>\n",
       " </td><td>\n",
       " $10,005.00\n",
       " </td><td>\n",
       " <img src=\"../img/gifts/img3.jpg\"/>\n",
       " </td></tr>,\n",
       " <tr class=\"gift\" id=\"gift4\"><td>\n",
       " Dead Parrot\n",
       " </td><td>\n",
       " This is an ex-parrot! <span class=\"excitingNote\">Or maybe he's only resting?</span>\n",
       " </td><td>\n",
       " $0.50\n",
       " </td><td>\n",
       " <img src=\"../img/gifts/img4.jpg\"/>\n",
       " </td></tr>,\n",
       " <tr class=\"gift\" id=\"gift5\"><td>\n",
       " Mystery Box\n",
       " </td><td>\n",
       " If you love suprises, this mystery box is for you! Do not place on light-colored surfaces. May cause oil staining. <span class=\"excitingNote\">Keep your friends guessing!</span>\n",
       " </td><td>\n",
       " $1.50\n",
       " </td><td>\n",
       " <img src=\"../img/gifts/img6.jpg\"/>\n",
       " </td></tr>]"
      ]
     },
     "metadata": {},
     "execution_count": 16
    }
   ],
   "source": [
    "(items_for_sale \n",
    " >> find('tr', class_ = 'gift')\n",
    " >> find_next_siblings\n",
    ")"
   ]
  },
  {
   "cell_type": "markdown",
   "metadata": {},
   "source": [
    "### Searching the last and next siblings\n",
    "\n",
    "We can also use these four functions to search for specific tags"
   ]
  },
  {
   "cell_type": "code",
   "execution_count": 19,
   "metadata": {
    "scrolled": true
   },
   "outputs": [
    {
     "output_type": "execute_result",
     "data": {
      "text/plain": [
       "<tr class=\"gift\" id=\"gift4\"><td>\n",
       "Dead Parrot\n",
       "</td><td>\n",
       "This is an ex-parrot! <span class=\"excitingNote\">Or maybe he's only resting?</span>\n",
       "</td><td>\n",
       "$0.50\n",
       "</td><td>\n",
       "<img src=\"../img/gifts/img4.jpg\"/>\n",
       "</td></tr>"
      ]
     },
     "metadata": {},
     "execution_count": 19
    }
   ],
   "source": [
    "(items_for_sale \n",
    " >> find('tr', class_ = 'gift')\n",
    " >> find_next_sibling(attrs={'id':'gift4'})\n",
    ")"
   ]
  },
  {
   "cell_type": "code",
   "execution_count": 20,
   "metadata": {},
   "outputs": [
    {
     "output_type": "execute_result",
     "data": {
      "text/plain": [
       "[<tr class=\"gift\" id=\"gift4\"><td>\n",
       " Dead Parrot\n",
       " </td><td>\n",
       " This is an ex-parrot! <span class=\"excitingNote\">Or maybe he's only resting?</span>\n",
       " </td><td>\n",
       " $0.50\n",
       " </td><td>\n",
       " <img src=\"../img/gifts/img4.jpg\"/>\n",
       " </td></tr>,\n",
       " <tr class=\"gift\" id=\"gift5\"><td>\n",
       " Mystery Box\n",
       " </td><td>\n",
       " If you love suprises, this mystery box is for you! Do not place on light-colored surfaces. May cause oil staining. <span class=\"excitingNote\">Keep your friends guessing!</span>\n",
       " </td><td>\n",
       " $1.50\n",
       " </td><td>\n",
       " <img src=\"../img/gifts/img6.jpg\"/>\n",
       " </td></tr>]"
      ]
     },
     "metadata": {},
     "execution_count": 20
    }
   ],
   "source": [
    "import re\n",
    "four_or_five = re.compile('(gift4|gift5)')\n",
    "(items_for_sale \n",
    " >> find('tr', class_ = 'gift')\n",
    " >> find_next_siblings(attrs={'id':four_or_five})\n",
    ")"
   ]
  },
  {
   "cell_type": "markdown",
   "metadata": {},
   "source": [
    "<font color=\"red\"><h2>Exercise 5</h2></font>\n",
    "\n",
    "* Look at the site source again, \n",
    "    * specifically item prices.\n",
    "* How can we get to these prices?"
   ]
  },
  {
   "cell_type": "code",
   "execution_count": null,
   "metadata": {},
   "outputs": [],
   "source": []
  },
  {
   "cell_type": "markdown",
   "metadata": {},
   "source": [
    "### Using relationships to find unlabeled data.\n",
    "\n",
    "\n",
    "* tr.gift#gift1\n",
    "    * td\n",
    "    * td\n",
    "    * td\n",
    "        * \"$15.00\"\n",
    "    * td\n",
    "        * `<img src=\"/img/gifts/img1.jpg\"/>`"
   ]
  },
  {
   "cell_type": "code",
   "execution_count": 24,
   "metadata": {},
   "outputs": [
    {
     "output_type": "execute_result",
     "data": {
      "text/plain": [
       "<tr class=\"gift\" id=\"gift1\"><td>\n",
       "Vegetable Basket\n",
       "</td><td>\n",
       "This vegetable basket is the perfect gift for your health conscious (or overweight) friends!\n",
       "<span class=\"excitingNote\">Now with super-colorful bell peppers!</span>\n",
       "</td><td>\n",
       "$15.00\n",
       "</td><td>\n",
       "<img src=\"../img/gifts/img1.jpg\"/>\n",
       "</td></tr>"
      ]
     },
     "metadata": {},
     "execution_count": 24
    }
   ],
   "source": [
    "(items_for_sale\n",
    " >> find('tr', id = 'gift1')) #Starting point at unique identifier"
   ]
  },
  {
   "cell_type": "code",
   "execution_count": 25,
   "metadata": {},
   "outputs": [
    {
     "output_type": "execute_result",
     "data": {
      "text/plain": [
       "<img src=\"../img/gifts/img1.jpg\"/>"
      ]
     },
     "metadata": {},
     "execution_count": 25
    }
   ],
   "source": [
    "(items_for_sale\n",
    " >> find('tr', id = 'gift1')\n",
    " >> find('img') #Grab the nearest named tag\n",
    ")"
   ]
  },
  {
   "cell_type": "code",
   "execution_count": 26,
   "metadata": {},
   "outputs": [
    {
     "output_type": "execute_result",
     "data": {
      "text/plain": [
       "<td>\n",
       "<img src=\"../img/gifts/img1.jpg\"/>\n",
       "</td>"
      ]
     },
     "metadata": {},
     "execution_count": 26
    }
   ],
   "source": [
    "(items_for_sale\n",
    " >> find('tr', id = 'gift1')\n",
    " >> find('img')\n",
    " >> find_parent\n",
    ")"
   ]
  },
  {
   "cell_type": "code",
   "execution_count": 27,
   "metadata": {},
   "outputs": [
    {
     "output_type": "execute_result",
     "data": {
      "text/plain": [
       "<td>\n",
       "$15.00\n",
       "</td>"
      ]
     },
     "metadata": {},
     "execution_count": 27
    }
   ],
   "source": [
    "(items_for_sale\n",
    " >> find('tr', id = 'gift1')\n",
    " >> find('img')\n",
    " >> find_parent\n",
    " >> find_previous_sibling\n",
    ")"
   ]
  },
  {
   "cell_type": "code",
   "execution_count": 28,
   "metadata": {},
   "outputs": [
    {
     "output_type": "execute_result",
     "data": {
      "text/plain": [
       "'\\n$15.00\\n'"
      ]
     },
     "metadata": {},
     "execution_count": 28
    }
   ],
   "source": [
    "(items_for_sale\n",
    " >> find('tr', id = 'gift1')\n",
    " >> find('img')\n",
    " >> find_parent\n",
    " >> find_previous_sibling\n",
    " >> get_text\n",
    ")"
   ]
  },
  {
   "cell_type": "code",
   "execution_count": 29,
   "metadata": {},
   "outputs": [
    {
     "output_type": "execute_result",
     "data": {
      "text/plain": [
       "'$15.00'"
      ]
     },
     "metadata": {},
     "execution_count": 29
    }
   ],
   "source": [
    "(items_for_sale\n",
    " >> find('tr', id = 'gift1')\n",
    " >> find('img')\n",
    " >> find_parent\n",
    " >> find_previous_sibling\n",
    " >> get_text\n",
    " >> strip\n",
    ")"
   ]
  },
  {
   "cell_type": "markdown",
   "metadata": {},
   "source": [
    "<font color=\"red\"><h2>Exercise 6</h2></font>\n",
    "\n",
    "See if you can get all of the prices with one pipe"
   ]
  },
  {
   "cell_type": "code",
   "execution_count": 30,
   "metadata": {},
   "outputs": [
    {
     "output_type": "execute_result",
     "data": {
      "text/plain": [
       "'$15.00'"
      ]
     },
     "metadata": {},
     "execution_count": 30
    }
   ],
   "source": [
    "# Start with this, NEED AN ANSWER\n",
    "\n",
    "(items_for_sale\n",
    " >> find('tr', id = 'gift1')\n",
    " >> find('img')\n",
    " >> find_parent\n",
    " >> find_previous_sibling\n",
    " >> get_text\n",
    " >> strip\n",
    ")"
   ]
  },
  {
   "cell_type": "markdown",
   "metadata": {},
   "source": [
    "### Searching with `lambda` functions\n",
    "\n",
    "We can use a lambda function \n",
    "* to perform more complicated searches.\n",
    "* **Syntax:** `bs.find_all(lambda tag: bool_expr)`"
   ]
  },
  {
   "cell_type": "markdown",
   "metadata": {},
   "source": [
    "### Example 1\n",
    "\n",
    "Let's find all tags with exactly 2 attributed"
   ]
  },
  {
   "cell_type": "code",
   "execution_count": null,
   "metadata": {
    "scrolled": true
   },
   "outputs": [],
   "source": [
    "(items_for_sale\n",
    " >> find_all(lambda tag: len(tag.attrs) == 2)\n",
    " >> head(2)\n",
    ")"
   ]
  },
  {
   "cell_type": "markdown",
   "metadata": {},
   "source": [
    "### Example 2\n",
    "\n",
    "Let's find all tags containing a specific piece of text."
   ]
  },
  {
   "cell_type": "code",
   "execution_count": null,
   "metadata": {},
   "outputs": [],
   "source": [
    "(items_for_sale\n",
    " >> find_all(lambda tag: tag.get_text() == 'Or maybe he\\'s only resting?')\n",
    ")"
   ]
  },
  {
   "cell_type": "code",
   "execution_count": null,
   "metadata": {
    "scrolled": true
   },
   "outputs": [],
   "source": [
    "(items_for_sale\n",
    " >> find_all('', text='Or maybe he\\'s only resting?')\n",
    ")\n"
   ]
  },
  {
   "cell_type": "markdown",
   "metadata": {},
   "source": [
    "## Searching with regular expressions\n",
    "\n",
    "The ultimate tool for performing complex text searches is a Regular Expression, which will be our next topic of discussion."
   ]
  },
  {
   "cell_type": "code",
   "execution_count": null,
   "metadata": {},
   "outputs": [],
   "source": [
    "gift_img = re.compile('\\.\\.\\/img\\/gifts/img.*\\.jpg')\n",
    "\n",
    "(items_for_sale\n",
    " >> find_all('img', attrs={'src': gift_img})\n",
    " >> map(tlz.get('src')) # why is ok to skip the filter?\n",
    ")"
   ]
  }
 ],
 "metadata": {
  "kernelspec": {
   "display_name": "Python 3",
   "language": "python",
   "name": "python3"
  },
  "language_info": {
   "codemirror_mode": {
    "name": "ipython",
    "version": 3
   },
   "file_extension": ".py",
   "mimetype": "text/x-python",
   "name": "python",
   "nbconvert_exporter": "python",
   "pygments_lexer": "ipython3",
   "version": "3.8.3-final"
  }
 },
 "nbformat": 4,
 "nbformat_minor": 2
}