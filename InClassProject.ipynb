{
 "metadata": {
  "language_info": {
   "codemirror_mode": {
    "name": "ipython",
    "version": 3
   },
   "file_extension": ".py",
   "mimetype": "text/x-python",
   "name": "python",
   "nbconvert_exporter": "python",
   "pygments_lexer": "ipython3",
   "version": "3.8.3-final"
  },
  "orig_nbformat": 2,
  "kernelspec": {
   "name": "Python 3.8.3 64-bit ('base': conda)",
   "display_name": "Python 3.8.3 64-bit ('base': conda)",
   "metadata": {
    "interpreter": {
     "hash": "4d9d72568fb31b31bbeb199c24ccf37e24895f3ded889b4230390b305f028619"
    }
   }
  }
 },
 "nbformat": 4,
 "nbformat_minor": 2,
 "cells": [
  {
   "cell_type": "code",
   "execution_count": 32,
   "metadata": {},
   "outputs": [],
   "source": [
    "import re\n",
    "import requests\n",
    "import toolz\n",
    "from bs4 import BeautifulSoup\n",
    "\n",
    "state = re.compile('/[A-Z]{2}\\.html')\n"
   ]
  },
  {
   "cell_type": "code",
   "execution_count": 46,
   "metadata": {},
   "outputs": [
    {
     "output_type": "execute_result",
     "data": {
      "text/plain": [
       "['AK',\n",
       " 'AL',\n",
       " 'AR',\n",
       " 'AZ',\n",
       " 'CA',\n",
       " 'CO',\n",
       " 'CT',\n",
       " 'DC',\n",
       " 'DE',\n",
       " 'FL',\n",
       " 'GA',\n",
       " 'HI',\n",
       " 'IA',\n",
       " 'ID',\n",
       " 'IL',\n",
       " 'IN',\n",
       " 'KS',\n",
       " 'KY',\n",
       " 'LA',\n",
       " 'MA',\n",
       " 'MD',\n",
       " 'ME',\n",
       " 'MI',\n",
       " 'MN',\n",
       " 'MO',\n",
       " 'MS',\n",
       " 'MT',\n",
       " 'NC',\n",
       " 'ND',\n",
       " 'NE',\n",
       " 'NH',\n",
       " 'NJ',\n",
       " 'NM',\n",
       " 'NV',\n",
       " 'NY',\n",
       " 'OH',\n",
       " 'OK',\n",
       " 'OR',\n",
       " 'PA',\n",
       " 'RI',\n",
       " 'SC',\n",
       " 'SD',\n",
       " 'TN',\n",
       " 'TX',\n",
       " 'UT',\n",
       " 'VA',\n",
       " 'VT',\n",
       " 'WA',\n",
       " 'WI',\n",
       " 'WV',\n",
       " 'WY']"
      ]
     },
     "metadata": {},
     "execution_count": 46
    }
   ],
   "source": [
    "s = requests.session()\n",
    "r = s.get('https://electproject.github.io/Early-Vote-2020G/index.html')\n",
    "\n",
    "soup = BeautifulSoup(r.content, 'html.parser')\n",
    "a_tags = soup.find_all('a', attrs = {'href':state})\n",
    "[x for x in a_tags]\n",
    "\n",
    "[BeautifulSoup.getText(x) for x in a_tags]\n",
    "\n",
    "#BeautifulSoup.\n"
   ]
  },
  {
   "cell_type": "code",
   "execution_count": 34,
   "metadata": {},
   "outputs": [
    {
     "output_type": "stream",
     "name": "stdout",
     "text": [
      "Help on function get in module toolz.itertoolz:\n\nget(ind, seq, default='__no__default__')\n    Get element in a sequence or dict\n    \n    Provides standard indexing\n    \n    >>> get(1, 'ABC')       # Same as 'ABC'[1]\n    'B'\n    \n    Pass a list to get multiple values\n    \n    >>> get([1, 2], 'ABC')  # ('ABC'[1], 'ABC'[2])\n    ('B', 'C')\n    \n    Works on any value that supports indexing/getitem\n    For example here we see that it works with dictionaries\n    \n    >>> phonebook = {'Alice':  '555-1234',\n    ...              'Bob':    '555-5678',\n    ...              'Charlie':'555-9999'}\n    >>> get('Alice', phonebook)\n    '555-1234'\n    \n    >>> get(['Alice', 'Bob'], phonebook)\n    ('555-1234', '555-5678')\n    \n    Provide a default for missing values\n    \n    >>> get(['Alice', 'Dennis'], phonebook, None)\n    ('555-1234', None)\n    \n    See Also:\n        pluck\n\n"
     ]
    }
   ],
   "source": [
    "help(toolz.get)"
   ]
  },
  {
   "cell_type": "code",
   "execution_count": null,
   "metadata": {},
   "outputs": [],
   "source": []
  }
 ]
}